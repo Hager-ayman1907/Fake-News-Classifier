{
  "cells": [
    {
      "cell_type": "code",
      "execution_count": 18,
      "metadata": {
        "id": "beWjP4cB3pl8"
      },
      "outputs": [],
      "source": [
        "import numpy as np\n",
        "import pandas as pd\n",
        "import matplotlib.pyplot as plt\n",
        "import seaborn as sns"
      ]
    },
    {
      "cell_type": "code",
      "execution_count": 19,
      "metadata": {
        "colab": {
          "base_uri": "https://localhost:8080/",
          "height": 206
        },
        "id": "HFInkCMO5A5L",
        "outputId": "8894cc62-9913-45bf-ddda-34b73634de08"
      },
      "outputs": [
        {
          "data": {
            "text/html": [
              "<div>\n",
              "<style scoped>\n",
              "    .dataframe tbody tr th:only-of-type {\n",
              "        vertical-align: middle;\n",
              "    }\n",
              "\n",
              "    .dataframe tbody tr th {\n",
              "        vertical-align: top;\n",
              "    }\n",
              "\n",
              "    .dataframe thead th {\n",
              "        text-align: right;\n",
              "    }\n",
              "</style>\n",
              "<table border=\"1\" class=\"dataframe\">\n",
              "  <thead>\n",
              "    <tr style=\"text-align: right;\">\n",
              "      <th></th>\n",
              "      <th>id</th>\n",
              "      <th>title</th>\n",
              "      <th>author</th>\n",
              "      <th>text</th>\n",
              "      <th>label</th>\n",
              "    </tr>\n",
              "  </thead>\n",
              "  <tbody>\n",
              "    <tr>\n",
              "      <th>0</th>\n",
              "      <td>0</td>\n",
              "      <td>House Dem Aide: We Didn’t Even See Comey’s Let...</td>\n",
              "      <td>Darrell Lucus</td>\n",
              "      <td>House Dem Aide: We Didn’t Even See Comey’s Let...</td>\n",
              "      <td>1</td>\n",
              "    </tr>\n",
              "    <tr>\n",
              "      <th>1</th>\n",
              "      <td>1</td>\n",
              "      <td>FLYNN: Hillary Clinton, Big Woman on Campus - ...</td>\n",
              "      <td>Daniel J. Flynn</td>\n",
              "      <td>Ever get the feeling your life circles the rou...</td>\n",
              "      <td>0</td>\n",
              "    </tr>\n",
              "    <tr>\n",
              "      <th>2</th>\n",
              "      <td>2</td>\n",
              "      <td>Why the Truth Might Get You Fired</td>\n",
              "      <td>Consortiumnews.com</td>\n",
              "      <td>Why the Truth Might Get You Fired October 29, ...</td>\n",
              "      <td>1</td>\n",
              "    </tr>\n",
              "    <tr>\n",
              "      <th>3</th>\n",
              "      <td>3</td>\n",
              "      <td>15 Civilians Killed In Single US Airstrike Hav...</td>\n",
              "      <td>Jessica Purkiss</td>\n",
              "      <td>Videos 15 Civilians Killed In Single US Airstr...</td>\n",
              "      <td>1</td>\n",
              "    </tr>\n",
              "    <tr>\n",
              "      <th>4</th>\n",
              "      <td>4</td>\n",
              "      <td>Iranian woman jailed for fictional unpublished...</td>\n",
              "      <td>Howard Portnoy</td>\n",
              "      <td>Print \\nAn Iranian woman has been sentenced to...</td>\n",
              "      <td>1</td>\n",
              "    </tr>\n",
              "  </tbody>\n",
              "</table>\n",
              "</div>"
            ],
            "text/plain": [
              "  id                                              title              author  \\\n",
              "0  0  House Dem Aide: We Didn’t Even See Comey’s Let...       Darrell Lucus   \n",
              "1  1  FLYNN: Hillary Clinton, Big Woman on Campus - ...     Daniel J. Flynn   \n",
              "2  2                  Why the Truth Might Get You Fired  Consortiumnews.com   \n",
              "3  3  15 Civilians Killed In Single US Airstrike Hav...     Jessica Purkiss   \n",
              "4  4  Iranian woman jailed for fictional unpublished...      Howard Portnoy   \n",
              "\n",
              "                                                text label  \n",
              "0  House Dem Aide: We Didn’t Even See Comey’s Let...     1  \n",
              "1  Ever get the feeling your life circles the rou...     0  \n",
              "2  Why the Truth Might Get You Fired October 29, ...     1  \n",
              "3  Videos 15 Civilians Killed In Single US Airstr...     1  \n",
              "4  Print \\nAn Iranian woman has been sentenced to...     1  "
            ]
          },
          "execution_count": 19,
          "metadata": {},
          "output_type": "execute_result"
        }
      ],
      "source": [
        "data = pd.read_csv(\"train.csv\", engine='python', on_bad_lines= 'skip')\n",
        "data.head()"
      ]
    },
    {
      "cell_type": "code",
      "execution_count": 20,
      "metadata": {
        "colab": {
          "base_uri": "https://localhost:8080/"
        },
        "id": "w0iReQnQ5F2d",
        "outputId": "29c225a1-2108-4d62-e9df-d36d392298b0"
      },
      "outputs": [
        {
          "data": {
            "text/plain": [
              "(20822, 5)"
            ]
          },
          "execution_count": 20,
          "metadata": {},
          "output_type": "execute_result"
        }
      ],
      "source": [
        "data.shape"
      ]
    },
    {
      "cell_type": "code",
      "execution_count": 21,
      "metadata": {
        "colab": {
          "base_uri": "https://localhost:8080/",
          "height": 241
        },
        "id": "JVAymVp45F53",
        "outputId": "adaa5dff-b454-4094-9e29-4e3ccc9c0d5a"
      },
      "outputs": [
        {
          "data": {
            "text/plain": [
              "id           0\n",
              "title      565\n",
              "author    1975\n",
              "text        59\n",
              "label       22\n",
              "dtype: int64"
            ]
          },
          "execution_count": 21,
          "metadata": {},
          "output_type": "execute_result"
        }
      ],
      "source": [
        "data.isnull().sum()"
      ]
    },
    {
      "cell_type": "code",
      "execution_count": 22,
      "metadata": {
        "id": "S4eb69yk7M9a"
      },
      "outputs": [],
      "source": [
        "###Drop Nan Values\n",
        "data= data.dropna()"
      ]
    },
    {
      "cell_type": "code",
      "execution_count": 23,
      "metadata": {
        "colab": {
          "base_uri": "https://localhost:8080/",
          "height": 241
        },
        "id": "mUQaUwwB7NAz",
        "outputId": "cf3b2321-ab5e-419c-d739-1476d32c6252"
      },
      "outputs": [
        {
          "data": {
            "text/plain": [
              "id        0\n",
              "title     0\n",
              "author    0\n",
              "text      0\n",
              "label     0\n",
              "dtype: int64"
            ]
          },
          "execution_count": 23,
          "metadata": {},
          "output_type": "execute_result"
        }
      ],
      "source": [
        "data.isnull().sum()"
      ]
    },
    {
      "cell_type": "code",
      "execution_count": 24,
      "metadata": {
        "colab": {
          "base_uri": "https://localhost:8080/"
        },
        "id": "JY7Bk8QF7hK2",
        "outputId": "9b7d219f-0918-4e8b-8d05-24474943d388"
      },
      "outputs": [
        {
          "data": {
            "text/plain": [
              "(18285, 5)"
            ]
          },
          "execution_count": 24,
          "metadata": {},
          "output_type": "execute_result"
        }
      ],
      "source": [
        "data.shape"
      ]
    },
    {
      "cell_type": "code",
      "execution_count": 25,
      "metadata": {
        "colab": {
          "base_uri": "https://localhost:8080/",
          "height": 206
        },
        "id": "zATup3ze7fHu",
        "outputId": "5ecc4071-38d0-4482-a431-9b3d39a85de7"
      },
      "outputs": [
        {
          "data": {
            "text/html": [
              "<div>\n",
              "<style scoped>\n",
              "    .dataframe tbody tr th:only-of-type {\n",
              "        vertical-align: middle;\n",
              "    }\n",
              "\n",
              "    .dataframe tbody tr th {\n",
              "        vertical-align: top;\n",
              "    }\n",
              "\n",
              "    .dataframe thead th {\n",
              "        text-align: right;\n",
              "    }\n",
              "</style>\n",
              "<table border=\"1\" class=\"dataframe\">\n",
              "  <thead>\n",
              "    <tr style=\"text-align: right;\">\n",
              "      <th></th>\n",
              "      <th>id</th>\n",
              "      <th>title</th>\n",
              "      <th>author</th>\n",
              "      <th>text</th>\n",
              "      <th>label</th>\n",
              "    </tr>\n",
              "  </thead>\n",
              "  <tbody>\n",
              "    <tr>\n",
              "      <th>0</th>\n",
              "      <td>0</td>\n",
              "      <td>House Dem Aide: We Didn’t Even See Comey’s Let...</td>\n",
              "      <td>Darrell Lucus</td>\n",
              "      <td>House Dem Aide: We Didn’t Even See Comey’s Let...</td>\n",
              "      <td>1</td>\n",
              "    </tr>\n",
              "    <tr>\n",
              "      <th>1</th>\n",
              "      <td>1</td>\n",
              "      <td>FLYNN: Hillary Clinton, Big Woman on Campus - ...</td>\n",
              "      <td>Daniel J. Flynn</td>\n",
              "      <td>Ever get the feeling your life circles the rou...</td>\n",
              "      <td>0</td>\n",
              "    </tr>\n",
              "    <tr>\n",
              "      <th>2</th>\n",
              "      <td>2</td>\n",
              "      <td>Why the Truth Might Get You Fired</td>\n",
              "      <td>Consortiumnews.com</td>\n",
              "      <td>Why the Truth Might Get You Fired October 29, ...</td>\n",
              "      <td>1</td>\n",
              "    </tr>\n",
              "    <tr>\n",
              "      <th>3</th>\n",
              "      <td>3</td>\n",
              "      <td>15 Civilians Killed In Single US Airstrike Hav...</td>\n",
              "      <td>Jessica Purkiss</td>\n",
              "      <td>Videos 15 Civilians Killed In Single US Airstr...</td>\n",
              "      <td>1</td>\n",
              "    </tr>\n",
              "    <tr>\n",
              "      <th>4</th>\n",
              "      <td>4</td>\n",
              "      <td>Iranian woman jailed for fictional unpublished...</td>\n",
              "      <td>Howard Portnoy</td>\n",
              "      <td>Print \\nAn Iranian woman has been sentenced to...</td>\n",
              "      <td>1</td>\n",
              "    </tr>\n",
              "  </tbody>\n",
              "</table>\n",
              "</div>"
            ],
            "text/plain": [
              "  id                                              title              author  \\\n",
              "0  0  House Dem Aide: We Didn’t Even See Comey’s Let...       Darrell Lucus   \n",
              "1  1  FLYNN: Hillary Clinton, Big Woman on Campus - ...     Daniel J. Flynn   \n",
              "2  2                  Why the Truth Might Get You Fired  Consortiumnews.com   \n",
              "3  3  15 Civilians Killed In Single US Airstrike Hav...     Jessica Purkiss   \n",
              "4  4  Iranian woman jailed for fictional unpublished...      Howard Portnoy   \n",
              "\n",
              "                                                text label  \n",
              "0  House Dem Aide: We Didn’t Even See Comey’s Let...     1  \n",
              "1  Ever get the feeling your life circles the rou...     0  \n",
              "2  Why the Truth Might Get You Fired October 29, ...     1  \n",
              "3  Videos 15 Civilians Killed In Single US Airstr...     1  \n",
              "4  Print \\nAn Iranian woman has been sentenced to...     1  "
            ]
          },
          "execution_count": 25,
          "metadata": {},
          "output_type": "execute_result"
        }
      ],
      "source": [
        "data.head()"
      ]
    },
    {
      "cell_type": "code",
      "execution_count": 26,
      "metadata": {
        "colab": {
          "base_uri": "https://localhost:8080/",
          "height": 241
        },
        "id": "rOHbMzGe5F9O",
        "outputId": "dd4500e3-a0d5-47eb-81e9-2b6515047aa0"
      },
      "outputs": [
        {
          "data": {
            "text/plain": [
              "label\n",
              "0                                                   10361\n",
              "1                                                    7922\n",
              " как люди воспринимают своё положение.                  1\n",
              " чтобы это была дорога с двусторонним движением.        1\n",
              "Name: count, dtype: int64"
            ]
          },
          "execution_count": 26,
          "metadata": {},
          "output_type": "execute_result"
        }
      ],
      "source": [
        "data['label'].value_counts()"
      ]
    },
    {
      "cell_type": "code",
      "execution_count": 27,
      "metadata": {
        "colab": {
          "base_uri": "https://localhost:8080/"
        },
        "id": "6vjhzcYjBcGM",
        "outputId": "86e7f98c-1894-4027-da82-dbb9db917699"
      },
      "outputs": [
        {
          "name": "stdout",
          "output_type": "stream",
          "text": [
            "['1' '0' ' как люди воспринимают своё положение.'\n",
            " ' чтобы это была дорога с двусторонним движением.']\n"
          ]
        }
      ],
      "source": [
        "print(data['label'].unique()[:20])  # أول 20 قيمة مختلفة"
      ]
    },
    {
      "cell_type": "code",
      "execution_count": 28,
      "metadata": {
        "id": "4j25CiifASbp"
      },
      "outputs": [],
      "source": [
        "# data.drop(data[data['label']==' как люди воспринимают своё положение.'].index, inplace= True)\n",
        "# data.drop(data[data['label']==' чтобы это была дорога с двусторонним движением.\t'].index, inplace= True)"
      ]
    },
    {
      "cell_type": "code",
      "execution_count": 29,
      "metadata": {
        "id": "LnZLTCbnBFSR"
      },
      "outputs": [],
      "source": [
        "data = data[data['label'] != ' как люди воспринимают своё положение.']\n",
        "data = data[data['label'] != ' чтобы это была дорога с двусторонним движением.']\n"
      ]
    },
    {
      "cell_type": "code",
      "execution_count": 30,
      "metadata": {
        "colab": {
          "base_uri": "https://localhost:8080/",
          "height": 178
        },
        "id": "2o8YBh7IASe8",
        "outputId": "aeb08620-b9f2-4fd1-a930-b3623b831ebc"
      },
      "outputs": [
        {
          "data": {
            "text/plain": [
              "label\n",
              "0    10361\n",
              "1     7922\n",
              "Name: count, dtype: int64"
            ]
          },
          "execution_count": 30,
          "metadata": {},
          "output_type": "execute_result"
        }
      ],
      "source": [
        "data['label'].value_counts()"
      ]
    },
    {
      "cell_type": "code",
      "execution_count": 31,
      "metadata": {
        "id": "moZkL5KB7GlH"
      },
      "outputs": [],
      "source": [
        "X = data.drop(columns=['label'])\n",
        "y = data['label']"
      ]
    },
    {
      "cell_type": "code",
      "execution_count": 32,
      "metadata": {
        "colab": {
          "base_uri": "https://localhost:8080/",
          "height": 36
        },
        "id": "Ul9SAuo08hJl",
        "outputId": "2c59b937-1f03-4d11-e13d-caf4056200a0"
      },
      "outputs": [
        {
          "data": {
            "text/plain": [
              "'2.20.0'"
            ]
          },
          "execution_count": 32,
          "metadata": {},
          "output_type": "execute_result"
        }
      ],
      "source": [
        "import tensorflow as tf\n",
        "tf.__version__"
      ]
    },
    {
      "cell_type": "code",
      "execution_count": 33,
      "metadata": {
        "id": "J47V2H1N9Kgf"
      },
      "outputs": [],
      "source": [
        "from tensorflow.keras.layers import Embedding, Dense, SimpleRNN, LSTM, Bidirectional\n",
        "from tensorflow.keras.models import Sequential\n",
        "from tensorflow.keras.preprocessing.sequence import pad_sequences\n",
        "from tensorflow.keras.preprocessing.text import one_hot"
      ]
    },
    {
      "cell_type": "code",
      "execution_count": 34,
      "metadata": {
        "colab": {
          "base_uri": "https://localhost:8080/"
        },
        "id": "AZFhDZgn8hM0",
        "outputId": "723c2c02-a316-495c-a6d2-3a4dfb1d661f"
      },
      "outputs": [
        {
          "name": "stderr",
          "output_type": "stream",
          "text": [
            "[nltk_data] Downloading package punkt to\n",
            "[nltk_data]     C:\\Users\\IT\\AppData\\Roaming\\nltk_data...\n",
            "[nltk_data]   Package punkt is already up-to-date!\n",
            "[nltk_data] Downloading package punkt_tab to\n",
            "[nltk_data]     C:\\Users\\IT\\AppData\\Roaming\\nltk_data...\n",
            "[nltk_data]   Package punkt_tab is already up-to-date!\n"
          ]
        },
        {
          "data": {
            "text/plain": [
              "True"
            ]
          },
          "execution_count": 34,
          "metadata": {},
          "output_type": "execute_result"
        }
      ],
      "source": [
        "import re\n",
        "import nltk\n",
        "nltk.download('punkt')\n",
        "nltk.download('punkt_tab')"
      ]
    },
    {
      "cell_type": "code",
      "execution_count": 35,
      "metadata": {
        "colab": {
          "base_uri": "https://localhost:8080/"
        },
        "id": "zMZiUQui8hWB",
        "outputId": "f6f4dd4c-bcaf-48f1-f251-40b0e24528c2"
      },
      "outputs": [
        {
          "name": "stderr",
          "output_type": "stream",
          "text": [
            "[nltk_data] Downloading package stopwords to\n",
            "[nltk_data]     C:\\Users\\IT\\AppData\\Roaming\\nltk_data...\n",
            "[nltk_data]   Package stopwords is already up-to-date!\n",
            "[nltk_data] Downloading package wordnet to\n",
            "[nltk_data]     C:\\Users\\IT\\AppData\\Roaming\\nltk_data...\n",
            "[nltk_data]   Package wordnet is already up-to-date!\n"
          ]
        },
        {
          "data": {
            "text/plain": [
              "True"
            ]
          },
          "execution_count": 35,
          "metadata": {},
          "output_type": "execute_result"
        }
      ],
      "source": [
        "from nltk.corpus import stopwords\n",
        "from nltk.stem import PorterStemmer\n",
        "from nltk.stem import WordNetLemmatizer\n",
        "nltk.download(\"stopwords\")\n",
        "nltk.download(\"wordnet\")"
      ]
    },
    {
      "cell_type": "code",
      "execution_count": 36,
      "metadata": {
        "id": "bMGOOxd68hZT"
      },
      "outputs": [],
      "source": [
        "voc_size = 5000"
      ]
    },
    {
      "cell_type": "code",
      "execution_count": 37,
      "metadata": {
        "id": "SeMDTL5V-3Zp"
      },
      "outputs": [],
      "source": [
        "messages = X.copy()"
      ]
    },
    {
      "cell_type": "markdown",
      "metadata": {
        "id": "5KtP3XN8-9no"
      },
      "source": [
        "### Apply Cleaning Processing"
      ]
    },
    {
      "cell_type": "code",
      "execution_count": 38,
      "metadata": {
        "id": "mMHqbee8-31H"
      },
      "outputs": [],
      "source": [
        "ps = PorterStemmer()"
      ]
    },
    {
      "cell_type": "code",
      "execution_count": 39,
      "metadata": {
        "colab": {
          "base_uri": "https://localhost:8080/"
        },
        "id": "IlkIxbHF_hyx",
        "outputId": "123e0cdf-7237-448b-baba-6b77ec8532ec"
      },
      "outputs": [
        {
          "data": {
            "text/plain": [
              "{'a',\n",
              " 'about',\n",
              " 'above',\n",
              " 'after',\n",
              " 'again',\n",
              " 'against',\n",
              " 'ain',\n",
              " 'all',\n",
              " 'am',\n",
              " 'an',\n",
              " 'and',\n",
              " 'any',\n",
              " 'are',\n",
              " 'aren',\n",
              " \"aren't\",\n",
              " 'as',\n",
              " 'at',\n",
              " 'be',\n",
              " 'because',\n",
              " 'been',\n",
              " 'before',\n",
              " 'being',\n",
              " 'below',\n",
              " 'between',\n",
              " 'both',\n",
              " 'but',\n",
              " 'by',\n",
              " 'can',\n",
              " 'couldn',\n",
              " \"couldn't\",\n",
              " 'd',\n",
              " 'did',\n",
              " 'didn',\n",
              " \"didn't\",\n",
              " 'do',\n",
              " 'does',\n",
              " 'doesn',\n",
              " \"doesn't\",\n",
              " 'doing',\n",
              " 'don',\n",
              " \"don't\",\n",
              " 'down',\n",
              " 'during',\n",
              " 'each',\n",
              " 'few',\n",
              " 'for',\n",
              " 'from',\n",
              " 'further',\n",
              " 'had',\n",
              " 'hadn',\n",
              " \"hadn't\",\n",
              " 'has',\n",
              " 'hasn',\n",
              " \"hasn't\",\n",
              " 'have',\n",
              " 'haven',\n",
              " \"haven't\",\n",
              " 'having',\n",
              " 'he',\n",
              " \"he'd\",\n",
              " \"he'll\",\n",
              " \"he's\",\n",
              " 'her',\n",
              " 'here',\n",
              " 'hers',\n",
              " 'herself',\n",
              " 'him',\n",
              " 'himself',\n",
              " 'his',\n",
              " 'how',\n",
              " 'i',\n",
              " \"i'd\",\n",
              " \"i'll\",\n",
              " \"i'm\",\n",
              " \"i've\",\n",
              " 'if',\n",
              " 'in',\n",
              " 'into',\n",
              " 'is',\n",
              " 'isn',\n",
              " \"isn't\",\n",
              " 'it',\n",
              " \"it'd\",\n",
              " \"it'll\",\n",
              " \"it's\",\n",
              " 'its',\n",
              " 'itself',\n",
              " 'just',\n",
              " 'll',\n",
              " 'm',\n",
              " 'ma',\n",
              " 'me',\n",
              " 'mightn',\n",
              " \"mightn't\",\n",
              " 'more',\n",
              " 'most',\n",
              " 'mustn',\n",
              " \"mustn't\",\n",
              " 'my',\n",
              " 'myself',\n",
              " 'needn',\n",
              " \"needn't\",\n",
              " 'no',\n",
              " 'nor',\n",
              " 'not',\n",
              " 'now',\n",
              " 'o',\n",
              " 'of',\n",
              " 'off',\n",
              " 'on',\n",
              " 'once',\n",
              " 'only',\n",
              " 'or',\n",
              " 'other',\n",
              " 'our',\n",
              " 'ours',\n",
              " 'ourselves',\n",
              " 'out',\n",
              " 'over',\n",
              " 'own',\n",
              " 're',\n",
              " 's',\n",
              " 'same',\n",
              " 'shan',\n",
              " \"shan't\",\n",
              " 'she',\n",
              " \"she'd\",\n",
              " \"she'll\",\n",
              " \"she's\",\n",
              " 'should',\n",
              " \"should've\",\n",
              " 'shouldn',\n",
              " \"shouldn't\",\n",
              " 'so',\n",
              " 'some',\n",
              " 'such',\n",
              " 't',\n",
              " 'than',\n",
              " 'that',\n",
              " \"that'll\",\n",
              " 'the',\n",
              " 'their',\n",
              " 'theirs',\n",
              " 'them',\n",
              " 'themselves',\n",
              " 'then',\n",
              " 'there',\n",
              " 'these',\n",
              " 'they',\n",
              " \"they'd\",\n",
              " \"they'll\",\n",
              " \"they're\",\n",
              " \"they've\",\n",
              " 'this',\n",
              " 'those',\n",
              " 'through',\n",
              " 'to',\n",
              " 'too',\n",
              " 'under',\n",
              " 'until',\n",
              " 'up',\n",
              " 've',\n",
              " 'very',\n",
              " 'was',\n",
              " 'wasn',\n",
              " \"wasn't\",\n",
              " 'we',\n",
              " \"we'd\",\n",
              " \"we'll\",\n",
              " \"we're\",\n",
              " \"we've\",\n",
              " 'were',\n",
              " 'weren',\n",
              " \"weren't\",\n",
              " 'what',\n",
              " 'when',\n",
              " 'where',\n",
              " 'which',\n",
              " 'while',\n",
              " 'who',\n",
              " 'whom',\n",
              " 'why',\n",
              " 'will',\n",
              " 'with',\n",
              " 'won',\n",
              " \"won't\",\n",
              " 'wouldn',\n",
              " \"wouldn't\",\n",
              " 'y',\n",
              " 'you',\n",
              " \"you'd\",\n",
              " \"you'll\",\n",
              " \"you're\",\n",
              " \"you've\",\n",
              " 'your',\n",
              " 'yours',\n",
              " 'yourself',\n",
              " 'yourselves'}"
            ]
          },
          "execution_count": 39,
          "metadata": {},
          "output_type": "execute_result"
        }
      ],
      "source": [
        "stop_words = set(stopwords.words(\"english\"))\n",
        "stop_words"
      ]
    },
    {
      "cell_type": "code",
      "execution_count": 40,
      "metadata": {
        "id": "0i0zBGN1-33Z"
      },
      "outputs": [],
      "source": [
        "def cleaning(text):\n",
        "    text = re.sub(r\"<.*?>\", \"\", text)                        #Also Remove HTML tags\n",
        "    text = text.lower()                                      # Lowercase\n",
        "    text = re.sub(r'_+', ' ', text)                           # يشيل أي underscores متكررة\n",
        "    text = re.sub(r\"http\\S+|www\\S+|https\\S+\", '', text)      # Remove URLs\n",
        "    text = re.sub(r'\\d+', '', text)                          # Remove digits\n",
        "    text = re.sub(r'\\s+[a-zA-Z]\\s+', ' ', text)              # Remove all single characters from text\n",
        "    text = re.sub(r\"[^\\w\\s]\", \"\", text)                      # Remove punctuation\n",
        "    text = re.sub(r'\\s+', ' ', text).strip()                 # Remove extra whitespace\n",
        "    words = text.split()                                     # Tokenize\n",
        "    words = [ps.stem(word) for word in words if word not in stop_words]  # Remove stop words\n",
        "    words = [re.sub(r'(.)\\1{2,}', r'\\1\\1', word) for word in words]  # Limit repeated letters to 2 max\n",
        "\n",
        "    clean_text = ' '.join(words)                                # Join back into one string\n",
        "    clean_text = re.sub(r'\\b(\\w+)( \\1\\b)+', r'\\1', clean_text)  # Remove repeated consecutive words\n",
        "\n",
        "    return clean_text"
      ]
    },
    {
      "cell_type": "code",
      "execution_count": 41,
      "metadata": {
        "id": "KG75iPdhCtHm"
      },
      "outputs": [],
      "source": [
        "messages.drop(columns= ['id'], inplace = True)"
      ]
    },
    {
      "cell_type": "code",
      "execution_count": 42,
      "metadata": {
        "colab": {
          "base_uri": "https://localhost:8080/",
          "height": 206
        },
        "id": "OX-iDVs9Ceqt",
        "outputId": "58b76ad4-68b1-458d-fa59-137394e923c7"
      },
      "outputs": [
        {
          "data": {
            "text/html": [
              "<div>\n",
              "<style scoped>\n",
              "    .dataframe tbody tr th:only-of-type {\n",
              "        vertical-align: middle;\n",
              "    }\n",
              "\n",
              "    .dataframe tbody tr th {\n",
              "        vertical-align: top;\n",
              "    }\n",
              "\n",
              "    .dataframe thead th {\n",
              "        text-align: right;\n",
              "    }\n",
              "</style>\n",
              "<table border=\"1\" class=\"dataframe\">\n",
              "  <thead>\n",
              "    <tr style=\"text-align: right;\">\n",
              "      <th></th>\n",
              "      <th>title</th>\n",
              "      <th>author</th>\n",
              "      <th>text</th>\n",
              "    </tr>\n",
              "  </thead>\n",
              "  <tbody>\n",
              "    <tr>\n",
              "      <th>0</th>\n",
              "      <td>House Dem Aide: We Didn’t Even See Comey’s Let...</td>\n",
              "      <td>Darrell Lucus</td>\n",
              "      <td>House Dem Aide: We Didn’t Even See Comey’s Let...</td>\n",
              "    </tr>\n",
              "    <tr>\n",
              "      <th>1</th>\n",
              "      <td>FLYNN: Hillary Clinton, Big Woman on Campus - ...</td>\n",
              "      <td>Daniel J. Flynn</td>\n",
              "      <td>Ever get the feeling your life circles the rou...</td>\n",
              "    </tr>\n",
              "    <tr>\n",
              "      <th>2</th>\n",
              "      <td>Why the Truth Might Get You Fired</td>\n",
              "      <td>Consortiumnews.com</td>\n",
              "      <td>Why the Truth Might Get You Fired October 29, ...</td>\n",
              "    </tr>\n",
              "    <tr>\n",
              "      <th>3</th>\n",
              "      <td>15 Civilians Killed In Single US Airstrike Hav...</td>\n",
              "      <td>Jessica Purkiss</td>\n",
              "      <td>Videos 15 Civilians Killed In Single US Airstr...</td>\n",
              "    </tr>\n",
              "    <tr>\n",
              "      <th>4</th>\n",
              "      <td>Iranian woman jailed for fictional unpublished...</td>\n",
              "      <td>Howard Portnoy</td>\n",
              "      <td>Print \\nAn Iranian woman has been sentenced to...</td>\n",
              "    </tr>\n",
              "  </tbody>\n",
              "</table>\n",
              "</div>"
            ],
            "text/plain": [
              "                                               title              author  \\\n",
              "0  House Dem Aide: We Didn’t Even See Comey’s Let...       Darrell Lucus   \n",
              "1  FLYNN: Hillary Clinton, Big Woman on Campus - ...     Daniel J. Flynn   \n",
              "2                  Why the Truth Might Get You Fired  Consortiumnews.com   \n",
              "3  15 Civilians Killed In Single US Airstrike Hav...     Jessica Purkiss   \n",
              "4  Iranian woman jailed for fictional unpublished...      Howard Portnoy   \n",
              "\n",
              "                                                text  \n",
              "0  House Dem Aide: We Didn’t Even See Comey’s Let...  \n",
              "1  Ever get the feeling your life circles the rou...  \n",
              "2  Why the Truth Might Get You Fired October 29, ...  \n",
              "3  Videos 15 Civilians Killed In Single US Airstr...  \n",
              "4  Print \\nAn Iranian woman has been sentenced to...  "
            ]
          },
          "execution_count": 42,
          "metadata": {},
          "output_type": "execute_result"
        }
      ],
      "source": [
        "messages.head()"
      ]
    },
    {
      "cell_type": "code",
      "execution_count": 43,
      "metadata": {
        "colab": {
          "base_uri": "https://localhost:8080/",
          "height": 269
        },
        "id": "fmdszDcF-36w",
        "outputId": "6aaba6d8-c59a-4b3a-cef6-bc2ebbd254af"
      },
      "outputs": [
        {
          "data": {
            "text/html": [
              "<div>\n",
              "<style scoped>\n",
              "    .dataframe tbody tr th:only-of-type {\n",
              "        vertical-align: middle;\n",
              "    }\n",
              "\n",
              "    .dataframe tbody tr th {\n",
              "        vertical-align: top;\n",
              "    }\n",
              "\n",
              "    .dataframe thead th {\n",
              "        text-align: right;\n",
              "    }\n",
              "</style>\n",
              "<table border=\"1\" class=\"dataframe\">\n",
              "  <thead>\n",
              "    <tr style=\"text-align: right;\">\n",
              "      <th></th>\n",
              "      <th>title</th>\n",
              "      <th>title_clean</th>\n",
              "    </tr>\n",
              "  </thead>\n",
              "  <tbody>\n",
              "    <tr>\n",
              "      <th>7437</th>\n",
              "      <td>Ex-rep: 'If Trump loses, I'm grabbing my musket'</td>\n",
              "      <td>exrep trump lose im grab musket</td>\n",
              "    </tr>\n",
              "    <tr>\n",
              "      <th>2321</th>\n",
              "      <td>Time: Investigating Hillary is an Attack on Al...</td>\n",
              "      <td>time investig hillari attack women</td>\n",
              "    </tr>\n",
              "    <tr>\n",
              "      <th>8721</th>\n",
              "      <td>VIDEO: Cartel Gunmen Hold Up Border City Curre...</td>\n",
              "      <td>video cartel gunmen hold border citi currenc e...</td>\n",
              "    </tr>\n",
              "    <tr>\n",
              "      <th>10007</th>\n",
              "      <td>On Deck With China’s Last Junk Builders, Maste...</td>\n",
              "      <td>deck china last junk builder master eb craft n...</td>\n",
              "    </tr>\n",
              "    <tr>\n",
              "      <th>16399</th>\n",
              "      <td>2 Reminders to Ignore the \"Trump is Doomed\" Polls</td>\n",
              "      <td>remind ignor trump doom poll</td>\n",
              "    </tr>\n",
              "    <tr>\n",
              "      <th>18160</th>\n",
              "      <td>Russian Fighter Makes ‘Provocative, Erratic’ A...</td>\n",
              "      <td>russian fighter make provoc errat approach wit...</td>\n",
              "    </tr>\n",
              "    <tr>\n",
              "      <th>15375</th>\n",
              "      <td>Most College Students Think America Invented S...</td>\n",
              "      <td>colleg student think america invent slaveri pr...</td>\n",
              "    </tr>\n",
              "  </tbody>\n",
              "</table>\n",
              "</div>"
            ],
            "text/plain": [
              "                                                   title  \\\n",
              "7437    Ex-rep: 'If Trump loses, I'm grabbing my musket'   \n",
              "2321   Time: Investigating Hillary is an Attack on Al...   \n",
              "8721   VIDEO: Cartel Gunmen Hold Up Border City Curre...   \n",
              "10007  On Deck With China’s Last Junk Builders, Maste...   \n",
              "16399  2 Reminders to Ignore the \"Trump is Doomed\" Polls   \n",
              "18160  Russian Fighter Makes ‘Provocative, Erratic’ A...   \n",
              "15375  Most College Students Think America Invented S...   \n",
              "\n",
              "                                             title_clean  \n",
              "7437                     exrep trump lose im grab musket  \n",
              "2321                  time investig hillari attack women  \n",
              "8721   video cartel gunmen hold border citi currenc e...  \n",
              "10007  deck china last junk builder master eb craft n...  \n",
              "16399                       remind ignor trump doom poll  \n",
              "18160  russian fighter make provoc errat approach wit...  \n",
              "15375  colleg student think america invent slaveri pr...  "
            ]
          },
          "execution_count": 43,
          "metadata": {},
          "output_type": "execute_result"
        }
      ],
      "source": [
        "messages['title_clean'] = messages['title'].apply(cleaning)\n",
        "# messages = messages[\"text\"].apply(cleaning)\n",
        "messages[[\"title\", \"title_clean\"]].sample(7)"
      ]
    },
    {
      "cell_type": "code",
      "execution_count": 44,
      "metadata": {
        "colab": {
          "base_uri": "https://localhost:8080/",
          "height": 458
        },
        "id": "mlMLn7bwCIXF",
        "outputId": "1e6c6d97-20ac-40ea-899c-ee4978fa9c18"
      },
      "outputs": [
        {
          "data": {
            "text/plain": [
              "0        hous dem aid didnt even see comey letter jason...\n",
              "1          flynn hillari clinton big woman campu breitbart\n",
              "2                                     truth might get fire\n",
              "3                 civilian kill singl us airstrik identifi\n",
              "4        iranian woman jail fiction unpublish stori wom...\n",
              "                               ...                        \n",
              "20817         rapper ti trump poster child white supremaci\n",
              "20818        nfl playoff schedul matchup odd new york time\n",
              "20819    maci said receiv takeov approach hudson bay ne...\n",
              "20820             nato russia hold parallel exercis balkan\n",
              "20821                                          keep f aliv\n",
              "Name: title_clean, Length: 18283, dtype: object"
            ]
          },
          "execution_count": 44,
          "metadata": {},
          "output_type": "execute_result"
        }
      ],
      "source": [
        "corpus = messages['title_clean']\n",
        "corpus"
      ]
    },
    {
      "cell_type": "markdown",
      "metadata": {
        "id": "tMPGpXD1GJlM"
      },
      "source": [
        "## ONE HOT Representation"
      ]
    },
    {
      "cell_type": "code",
      "execution_count": 45,
      "metadata": {
        "colab": {
          "base_uri": "https://localhost:8080/"
        },
        "id": "SFeC0YhzFml5",
        "outputId": "dfa1c9d8-851a-4a87-ce60-9a6996cdc351"
      },
      "outputs": [
        {
          "data": {
            "text/plain": [
              "[[2683, 2339, 71, 4766, 4146, 3796, 4718, 4940, 4938, 3780, 2741],\n",
              " [3302, 3909, 3093, 551, 3427, 3231, 3773],\n",
              " [532, 3569, 4249, 3064],\n",
              " [2577, 3605, 1371, 4438, 12, 2537],\n",
              " [158, 3427, 2029, 4518, 2154, 4704, 3427, 3071, 4798, 3731],\n",
              " [4880,\n",
              "  602,\n",
              "  3501,\n",
              "  2341,\n",
              "  4080,\n",
              "  547,\n",
              "  2675,\n",
              "  307,\n",
              "  4604,\n",
              "  1180,\n",
              "  3112,\n",
              "  3715,\n",
              "  3653,\n",
              "  1663,\n",
              "  3773],\n",
              " [2014, 4904, 4913, 4361, 1638, 3294, 423, 3714, 4821, 4642, 2257],\n",
              " [4451, 848, 530, 1542, 3247, 547, 281, 4821, 4642, 2257],\n",
              " [723, 2358, 296, 3218, 2270, 132, 1789, 547, 237],\n",
              " [3386, 3463, 4967, 1177, 1535, 2999, 578, 4559],\n",
              " [4435, 2745, 4019, 3380, 4838, 1228, 1924, 3546, 2528, 2405, 280],\n",
              " [4438, 1653, 3796, 950, 547, 1542],\n",
              " [3433, 4721, 2653, 3796, 1942, 3931, 2880, 3682, 281],\n",
              " [1343, 660, 3021, 4553, 3153, 2282, 2204, 4821, 4642, 2257],\n",
              " [3381, 1805, 4599, 4204, 2525, 4821, 4642, 2257],\n",
              " [40, 878, 1629, 383, 1405, 4477, 3594, 4657, 2972, 1856],\n",
              " [2723, 2396, 3909],\n",
              " [3204, 617, 1498, 3326, 547, 930, 1884, 3773],\n",
              " [4968, 3902, 3093, 4302, 4827, 3993, 4729, 3017, 4704],\n",
              " [991, 2653, 547, 1057, 4088, 3773],\n",
              " [2215, 1107, 2355, 3312, 1869, 4729, 1930, 2791, 4413, 4821, 4642, 2257],\n",
              " [1119, 2516, 1729, 2682, 2189, 1306, 4149],\n",
              " [3653, 4842, 3557, 4271, 253, 3942, 4328, 1438, 4210, 4741, 2121, 3773],\n",
              " [2186, 3909, 3015, 1973, 4161, 1877, 3774, 1238],\n",
              " [4931, 645, 217, 2721, 3418, 2820, 4302, 210, 2482, 4821, 4642, 2257],\n",
              " [3909, 3093, 337, 3901, 4821, 4642, 2257],\n",
              " [3204, 617, 1498, 659, 304, 4311, 2721, 3773],\n",
              " [4111, 4658, 2567, 3604, 1913, 4821, 4642, 2257],\n",
              " [1762, 1490, 1813, 2611, 3824, 653, 3569, 1309, 1843, 4821, 4642, 2257],\n",
              " [856, 2194, 2814, 1438, 465, 4767, 3089, 4119, 49, 4821, 4642, 2257],\n",
              " [1542, 4594, 2189, 4878, 2866, 4850, 4821, 4642, 2257],\n",
              " [3770, 4084, 949, 2887, 3502],\n",
              " [4061, 2359, 4438, 2],\n",
              " [2827, 2504, 4098, 4633, 2599, 436, 4433, 3773],\n",
              " [1484, 3627, 1484, 1512, 772, 122, 4821, 4642, 2257],\n",
              " [2430, 2298, 2787, 3900, 4901, 2326, 1075, 3773],\n",
              " [2054, 4204, 599, 4816, 2436],\n",
              " [81, 4010, 3149, 4607, 2287, 502, 4821, 4642, 2257],\n",
              " [2086, 3449, 3924, 1178, 723, 4348, 1829, 1779, 3773],\n",
              " [829, 826, 948, 2612, 2661, 4919, 217, 4821, 4642, 2257],\n",
              " [2996, 2552, 2294, 4361, 4703, 4721, 1209, 4304, 1663],\n",
              " [3484, 721, 2981, 2188, 3246, 4821, 54, 4821, 4642, 2257],\n",
              " [1751, 253, 1200, 3992, 3465, 1918, 2558, 2888, 4652, 2022, 4226, 3773],\n",
              " [659, 3538, 4359],\n",
              " [3754, 1820, 3163, 522, 3639, 59, 2187, 1066, 2285, 3773],\n",
              " [547, 2, 659, 1583, 626, 2700],\n",
              " [383, 2512, 2898, 882, 2069, 4824, 2171, 3505, 3463, 3585, 1663],\n",
              " [1125, 171, 4842, 309, 4376],\n",
              " [3326, 547, 4913, 2, 4609, 2288, 4438, 930, 3592],\n",
              " [3392, 4054, 4093, 650, 3016, 4821, 4642, 2257],\n",
              " [1343, 2760, 1360, 204, 2603, 2664, 4821, 4642, 2257],\n",
              " [1060, 940, 1838, 3749, 2],\n",
              " [563, 137, 1338, 4227, 3546, 4037, 4332, 2398, 4821, 4642, 2257],\n",
              " [1265, 582, 2220, 4668, 64, 4454, 3885, 4298],\n",
              " [4376, 1804, 1918, 204, 1214, 3559, 1693, 518, 3694, 4821, 4642, 2257],\n",
              " [4438, 4226, 4842, 3557, 2497, 84, 1360, 4438, 3386],\n",
              " [2399, 3153, 906, 4776, 4669, 3166, 2117, 2852, 2599, 3299],\n",
              " [3093, 1209, 4391, 2723, 2216, 4719, 4744, 3909, 3093, 2345],\n",
              " [418, 3128, 1919, 1238, 4821, 4642, 2257],\n",
              " [2930, 3574, 4810, 3931, 548, 547, 344, 930, 1524],\n",
              " [336, 1540, 2362, 2087],\n",
              " [439, 2445, 253, 4587, 3174],\n",
              " [3088, 1838, 3427, 3216, 4821, 4642, 2257],\n",
              " [1082, 1144, 3770, 914, 4478, 4821, 579, 4821, 4642, 2257],\n",
              " [2996, 516, 237, 723, 3070, 1338, 384, 1829, 4821, 4642, 2257],\n",
              " [2827, 4288, 3574, 2949, 3181, 4821, 4642, 2257],\n",
              " [2439, 209, 2139, 723, 56, 4066, 2721],\n",
              " [4438, 1013, 3449, 3941, 2371, 2978, 4821, 4642, 2257],\n",
              " [1873, 4497, 1592, 4921, 547, 4931, 4569, 3773],\n",
              " [710, 463, 1292, 4438, 423, 450, 2378, 4146, 945, 4821, 4642, 2257],\n",
              " [3138, 2535, 4061, 3992, 85, 2227, 4127, 4929, 4696],\n",
              " [4516, 1473, 3471, 3909],\n",
              " [4775, 3709, 2450, 2898, 3156, 4755, 4950, 4339],\n",
              " [547, 4669, 729, 4423, 4821, 4642, 2257],\n",
              " [3342, 1862, 3163, 1031, 696, 3499, 4027, 4485, 4821, 4642, 2257],\n",
              " [1525],\n",
              " [547, 4547, 1238, 445, 1930, 4271, 4304, 4821, 4642, 2257],\n",
              " [217, 1186, 3174, 981, 3891, 1366, 3093, 1238, 3459, 547, 812, 3592, 3749],\n",
              " [4518, 309, 4114, 4597, 4821, 4642, 2257],\n",
              " [3346, 2188, 58, 336, 2705, 3501, 4039, 4821, 4642, 2257],\n",
              " [4810, 867, 2508, 4227, 3971, 1785, 3607, 3081, 3643, 1432],\n",
              " [3599, 3850, 4946, 4594, 812, 3687, 4493, 4821, 4642, 2257],\n",
              " [472,\n",
              "  4097,\n",
              "  472,\n",
              "  3449,\n",
              "  1255,\n",
              "  3326,\n",
              "  547,\n",
              "  2827,\n",
              "  1443,\n",
              "  178,\n",
              "  1889,\n",
              "  1675,\n",
              "  4656,\n",
              "  1882,\n",
              "  3467,\n",
              "  2431],\n",
              " [3773, 2721, 2362, 547, 1339, 3773],\n",
              " [4086, 2683, 2928, 535, 3919, 723, 2786, 1319],\n",
              " [4982, 1312, 4226, 2827, 2, 2431, 3773],\n",
              " [3992, 4981, 458, 3749, 1672, 1101, 2355, 4821, 4642, 2257],\n",
              " [83, 3393, 4915, 3885, 3021, 848, 3884, 4821, 4642, 2257],\n",
              " [4738, 1177, 864, 2516, 3826, 509, 3047],\n",
              " [4729, 59, 2651, 3122, 1571, 3068, 4821, 4642, 2257],\n",
              " [3909, 3093, 3294, 383, 1889, 2785, 4658, 3326, 547, 4821, 4642, 2257],\n",
              " [547, 1810, 1526, 3174, 842, 196, 1230, 4061],\n",
              " [3181, 4936, 4435, 2653, 4901],\n",
              " [3900, 2392, 816, 542, 4657, 2972, 1856],\n",
              " [3942, 3557, 4630, 2876, 1375, 2427, 2104, 4630, 2876, 1375, 3773],\n",
              " [524, 551, 2777, 4009, 4231, 1762, 3715, 1974, 3773],\n",
              " [1265, 651, 4008, 1111, 4644, 2276, 4870, 4898, 3507, 3773],\n",
              " [3862, 4731, 3743, 3993, 1354, 584, 1969, 2431, 551, 2298, 4821, 4642, 2257],\n",
              " [1133, 3040, 705, 3562, 3959, 547, 4722, 3847, 1651, 4395],\n",
              " [1990, 547, 3776, 3602, 2471, 1473, 4425, 2972, 1555, 3337, 2670, 4333, 1385],\n",
              " [3825, 1762, 675, 594, 4472, 3920, 3522, 485, 4821, 4642, 2257],\n",
              " [3093, 1209, 3927, 2914, 2535, 4958, 1653, 829, 3749, 3909, 1153, 1553],\n",
              " [2552, 2705, 1930, 2717, 4793, 2813, 2286, 829, 2338, 393, 3773],\n",
              " [2758, 2054, 1287, 1675, 3585, 4338, 4761, 4877, 4821, 4642, 2257],\n",
              " [1862, 927, 1930, 4963, 1832, 4598, 4821, 4642, 2257],\n",
              " [4376, 1474, 336, 3832, 2232, 2148, 4821, 4642, 2257],\n",
              " [547, 3620, 812, 1129, 1228, 729, 1653, 4810, 4821, 4642, 2257],\n",
              " [4549, 4957, 2599, 2345, 4705, 1178, 2643, 2345],\n",
              " [1971, 704, 2683, 4821, 4034, 309, 706, 4248, 1829, 2085],\n",
              " [2946, 3471, 2345, 731, 2959, 2946, 4897, 4821, 4642, 2257],\n",
              " [930, 3122, 2119, 2683, 1069, 1432, 1752],\n",
              " [2005, 2801, 196, 4438, 2, 189, 3632, 3909, 4913],\n",
              " [2617, 297, 414, 1006, 976, 4701, 4821, 4642, 2257],\n",
              " [2396, 3852, 2008, 547, 4007, 430, 4821, 4642, 2257],\n",
              " [2552, 217, 4702, 4086, 2683, 4676, 3326, 547, 3773],\n",
              " [2787, 3467, 2817, 547, 2847, 1918, 671, 4304, 3773],\n",
              " [729, 576, 137, 3079, 628],\n",
              " [1453, 547, 2721, 4901, 3798, 1946, 4821, 4642, 2257],\n",
              " [3326, 547, 3246, 848, 2446, 2343, 1675, 646, 4821, 4642, 2257],\n",
              " [1573, 2827, 646, 1974, 2189, 3305, 3695, 4497, 1251, 3773],\n",
              " [2814, 524, 1248, 3727],\n",
              " [1653, 463, 1292, 137, 2054, 1626, 4821, 4642, 2257],\n",
              " [2828, 2711, 45, 1655, 3081, 3865, 3403, 4139, 143],\n",
              " [2516, 1888, 4226, 4929, 2688, 3271, 4282, 1884, 1930],\n",
              " [547, 234, 437, 3555, 2436, 4099, 4729, 1312, 123, 4610, 1663],\n",
              " [2723, 3153, 35, 4986, 3909, 3093, 2345, 1473, 3418],\n",
              " [1969, 4729, 4219, 3605, 2852, 2727, 2978, 4479, 4034],\n",
              " [3174, 4425, 3253, 340, 1822, 1577, 3296, 547, 2132],\n",
              " [336, 4368, 2447, 3545, 3216, 1],\n",
              " [4338, 3605, 3886, 3152, 2473, 1970, 84],\n",
              " [3604, 2529, 4547, 3211, 2429, 3862, 2428, 4731, 4577, 540, 4149, 2529],\n",
              " [3562, 2898, 3402, 3322, 4360, 3022, 2220, 338, 2587, 4146],\n",
              " [1239, 944, 2599, 509, 829, 4064, 4755, 384, 2421, 3749, 165],\n",
              " [3312, 3047, 4547, 4740, 4821, 4642, 2257],\n",
              " [2827, 2000, 3942, 3832, 547, 2108, 2762, 4821, 4642, 2257],\n",
              " [398, 2611, 2793, 3901, 2844, 848, 2053, 1129, 4821, 4642, 2257],\n",
              " [2535, 4653],\n",
              " [4846, 1474, 4086, 2683, 1730, 767, 1341, 2023, 4821, 4642, 2257],\n",
              " [357, 557, 3064, 4921, 3380, 2187, 547, 11, 2741, 3773],\n",
              " [3093, 603],\n",
              " [4442, 1591, 3238, 3260, 2535, 264, 3322, 4821, 4642, 2257],\n",
              " [2535, 261, 137, 1105, 705, 1993],\n",
              " [4821, 3754, 950, 487, 4494, 3321, 4694, 1204, 420],\n",
              " [4280, 2035, 1888, 802],\n",
              " [2898, 2069, 3668, 4596, 646, 547],\n",
              " [600, 4639, 3761, 3593, 4923, 2898, 4525, 2970, 3089, 3435, 4821, 4642, 2257],\n",
              " [1515, 4599, 626, 2690, 4008, 2888, 4823, 4821, 4642, 2257],\n",
              " [2954, 1796, 2898, 4583, 4821, 4642, 2257],\n",
              " [338, 4039, 4008, 1237, 3504, 1501, 34, 3773],\n",
              " [4790, 1558, 1193, 1241, 1130, 3289, 1375, 3299, 1970],\n",
              " [3824, 1441, 1150, 1027, 420, 4008, 3773],\n",
              " [3584, 4610, 4656, 4410, 3905, 3973],\n",
              " [547, 2446, 2123, 3477, 3497, 4311, 1363, 85, 953],\n",
              " [970,\n",
              "  667,\n",
              "  4725,\n",
              "  2447,\n",
              "  2685,\n",
              "  381,\n",
              "  2096,\n",
              "  4348,\n",
              "  1829,\n",
              "  3318,\n",
              "  4396,\n",
              "  4810,\n",
              "  980,\n",
              "  4394,\n",
              "  3326,\n",
              "  547,\n",
              "  3773],\n",
              " [4009, 2552, 2767, 3467, 875, 3326, 547, 3030, 4821, 4642, 2257],\n",
              " [4061, 4940, 547, 1312, 763, 1838],\n",
              " [2625, 4383, 204, 3754, 2212, 2945, 3909, 1027, 870, 4776],\n",
              " [4349, 1253, 812, 2044, 4105, 85, 3590, 4821, 4642, 2257],\n",
              " [540, 1838, 130, 144, 2588, 4821, 4642, 2257],\n",
              " [850, 4810, 927, 854, 654, 2564, 3079, 3506, 4821, 4642, 2257],\n",
              " [2235, 3386, 1988, 2978, 1040, 870, 3249, 1526, 4821, 4642, 2257],\n",
              " [1553, 4752, 3064, 4730, 3693, 89, 2196],\n",
              " [3318, 1102, 3947, 3318, 4821, 4642, 2257],\n",
              " [3465, 11, 870, 2683, 2742, 547, 4821, 4642, 2257],\n",
              " [983, 4438, 4444, 650, 634, 802, 1432, 3064],\n",
              " [3163,\n",
              "  3689,\n",
              "  1889,\n",
              "  1138,\n",
              "  4249,\n",
              "  680,\n",
              "  3619,\n",
              "  2683,\n",
              "  1375,\n",
              "  2038,\n",
              "  4249,\n",
              "  3956,\n",
              "  1018,\n",
              "  529,\n",
              "  2282],\n",
              " [4401, 650, 1889, 398, 2614, 1908, 2945, 4425, 2876, 2777, 1908],\n",
              " [4813, 547, 2140, 859, 4821, 4642, 2257],\n",
              " [2723, 2696, 4718, 4006, 4958, 2174, 3093],\n",
              " [1822, 601, 1234, 544, 3680, 1529, 84],\n",
              " [4798, 793, 296],\n",
              " [2625, 2210, 4752, 418, 3163, 2170, 4702, 3605, 816],\n",
              " [3326, 547, 4699, 2298, 2981, 1218, 3441, 4821, 4642, 2257],\n",
              " [489, 3941, 3015, 466, 3736, 4066, 2412, 2200, 3296, 4821, 4642, 2257],\n",
              " [2077, 540, 4777, 801, 454, 4754, 350, 1553],\n",
              " [3326, 547, 747, 2431, 4821, 4642, 2257],\n",
              " [693,\n",
              "  4821,\n",
              "  2842,\n",
              "  3909,\n",
              "  437,\n",
              "  1209,\n",
              "  4704,\n",
              "  1023,\n",
              "  4630,\n",
              "  4438,\n",
              "  1889,\n",
              "  4787,\n",
              "  3695,\n",
              "  368],\n",
              " [3653,\n",
              "  2446,\n",
              "  4566,\n",
              "  2008,\n",
              "  4044,\n",
              "  2263,\n",
              "  3505,\n",
              "  3082,\n",
              "  4810,\n",
              "  4962,\n",
              "  345,\n",
              "  3973,\n",
              "  1177,\n",
              "  1927,\n",
              "  4061],\n",
              " [547, 2817, 3174, 2672, 3318, 3620, 2560, 3773],\n",
              " [2588, 3753, 584, 1969],\n",
              " [4972, 2450, 2996, 765, 4099, 1217, 4821, 4642, 2257],\n",
              " [2516, 848, 2966, 4477, 1018, 1820, 462],\n",
              " [547, 84, 3181, 564, 2368, 2625, 4821, 4642, 2257],\n",
              " [3093, 1426, 150, 4959, 2345, 3909, 4425, 884],\n",
              " [4803, 3509, 1038, 81, 2012, 1829, 3773],\n",
              " [3326, 547, 4098, 3081, 522],\n",
              " [1063, 1248, 1850, 1633, 2406, 1991, 3396, 2485, 3408],\n",
              " [500, 3181, 450, 132, 992, 609, 3251, 4821, 4642, 2257],\n",
              " [3653, 1825, 4810, 3862, 4731, 2341, 496, 2945, 217, 2721],\n",
              " [1990, 2878, 723, 4437, 4297, 1967, 2647, 2013, 3749, 4821, 4642, 2257],\n",
              " [2567, 646, 1248, 4619, 1972, 2564, 3644, 4967, 4821, 4642, 2257],\n",
              " [1783, 2295, 1020, 772, 2721, 547],\n",
              " [4899, 4401, 4610, 4034, 4759, 4547, 130, 4461, 3825, 4249, 2972, 1998, 3380],\n",
              " [3535, 4438, 4642, 3202, 1889, 4821, 4642, 2257],\n",
              " [3840, 3477, 674, 3667, 926, 2729, 84, 4821, 4642, 2257],\n",
              " [2006, 2827, 4382, 2104, 3185, 1248, 547],\n",
              " [398, 521, 3089, 3901, 2564, 4606, 4821, 4642, 2257],\n",
              " [1542, 2056, 84, 3886, 3253, 4810, 960, 4931],\n",
              " [3344, 4921, 2693, 3946, 3639, 4573, 2369, 4821, 4642, 2257],\n",
              " [398, 3089, 2164, 2793, 3901, 1250, 1385, 2537, 4821, 4642, 2257],\n",
              " [2997,\n",
              "  4245,\n",
              "  861,\n",
              "  3586,\n",
              "  3682,\n",
              "  1395,\n",
              "  2997,\n",
              "  2697,\n",
              "  1018,\n",
              "  861,\n",
              "  3586,\n",
              "  1318,\n",
              "  3982,\n",
              "  2226],\n",
              " [547, 3689, 2721, 3931, 4821, 122, 453, 3459, 4821, 4642, 2257],\n",
              " [4438, 2058, 3941, 4883, 2983, 3604, 4821, 4642, 2257],\n",
              " [4438, 1408, 189, 2666, 84, 2067, 4821, 4642, 1241, 1762],\n",
              " [763, 1049, 2447, 1087, 1901],\n",
              " [3174, 3862, 4731, 2448, 1472, 2298, 2883, 2446, 196],\n",
              " [725, 4288, 2564, 454, 2213, 4821, 4642, 2257],\n",
              " [641,\n",
              "  2587,\n",
              "  4146,\n",
              "  4939,\n",
              "  3398,\n",
              "  3163,\n",
              "  3398,\n",
              "  4423,\n",
              "  4146,\n",
              "  547,\n",
              "  3629,\n",
              "  2341,\n",
              "  3734,\n",
              "  930,\n",
              "  4188],\n",
              " [3051, 3181, 3381, 1805, 4599, 4830, 368, 4821, 4642, 2257],\n",
              " [431, 3051, 291, 2116, 1498, 4311, 2721, 2016, 3773],\n",
              " [2220, 1168, 4821, 2529, 547, 4493, 4821, 4642, 2257],\n",
              " [3898, 613, 3944, 175, 1193, 772, 2996, 3773],\n",
              " [2711, 4921, 1991, 2998, 3832, 4821, 4642, 2257],\n",
              " [1309, 2811],\n",
              " [3043, 1951, 4438, 4102, 2538, 2194, 2381, 2088, 2173, 4821, 4642, 2257],\n",
              " [547, 3653, 4630, 2638, 3301, 2353, 2345, 4821, 4642, 2257],\n",
              " [816, 4729, 2011, 856, 2117, 2653, 701, 1729, 384, 3773],\n",
              " [4842, 3557, 4271, 2436, 1930, 4905, 1674, 3166, 1970, 3299, 1241],\n",
              " [3898, 3174, 1248, 3089, 4975, 1838, 551, 3559, 130, 3773],\n",
              " [3604, 3166, 2368, 2928, 4913, 19, 436],\n",
              " [4563],\n",
              " [4361, 2955, 2411, 3459, 2487, 4294, 564, 4821, 4642, 2257],\n",
              " [547, 248, 3294, 4990, 2599, 509, 4821, 4642, 2257],\n",
              " [4029, 1169, 3793, 3224, 2],\n",
              " [3682, 4104, 2697, 1573, 1651, 3845, 2978, 328, 2346, 1651, 3845, 2978],\n",
              " [2795, 2683, 132, 911, 3080, 4821, 4642, 2257],\n",
              " [2114, 4080, 3966, 3326, 547, 4821, 2098, 2907, 4821, 4642, 2257],\n",
              " [4097, 472, 488, 4271, 3326, 547, 2259, 2143, 4821, 4642, 2257],\n",
              " [2663, 733, 3059, 4746, 1996, 706, 4821, 4642, 2257],\n",
              " [262, 2565, 4438, 2683, 4543, 723, 4304],\n",
              " [4516, 2306, 2758, 2723, 1721, 2194],\n",
              " [1371, 2497, 786, 652, 949, 829, 4401, 2257, 4821, 4642, 2257],\n",
              " [3590, 3112, 343, 2981, 4821, 4059, 2173, 3773],\n",
              " [547, 2357, 3444, 2824, 3569, 2777, 902, 114, 3695, 4821, 4642, 2257],\n",
              " [4906, 3015, 4703, 3179, 4367, 1990, 3181, 4493, 4927, 3658, 386, 3632, 3773],\n",
              " [2568, 1229, 2662, 2786, 2300, 1950, 4821, 4642, 2257],\n",
              " [1729, 2241, 2945, 2630, 1636, 734, 384],\n",
              " [650, 1930, 4515, 2400, 4821, 4642, 2257],\n",
              " [3229, 4210, 2485, 1612, 3594, 1922, 3773],\n",
              " [3380, 171, 3604],\n",
              " [1375, 2614, 725, 540, 1102, 3471, 4652, 3984, 3305, 2116],\n",
              " [3909, 1209, 4317, 1543, 1444, 223, 1062, 2723, 2263, 1555, 4921],\n",
              " [3770, 3015, 2035, 1998, 3402, 1528, 547, 4913],\n",
              " [1270, 3635, 2339, 2231, 1102, 956, 2693, 547, 1312, 3773],\n",
              " [2213, 1415, 675, 4976, 547, 4249, 1319],\n",
              " [2827, 3256, 3924, 2690, 2457, 4599, 3773],\n",
              " [673, 4040, 1704, 4342, 4061, 3064, 673, 274, 3315, 1042, 1348, 2741],\n",
              " [2472, 491, 4503, 3909],\n",
              " [307, 4595, 3022, 458, 2073, 4374, 2619, 4821, 4642, 2257],\n",
              " [3885, 4080, 4181, 20, 4821, 4642, 2257],\n",
              " [1423, 3392, 3318, 3879, 615, 3691, 4821, 4642, 2257],\n",
              " [137, 1930, 356, 4188, 3676, 3850, 3246, 1571],\n",
              " [1330, 2088, 2906, 1069, 4249, 4990, 4821, 4642, 2257],\n",
              " [3528, 547, 4834, 3722, 3604, 4438, 4304, 2560, 1542, 3773],\n",
              " [322, 3794, 3441, 2282, 4249, 768, 601],\n",
              " [3896, 4887, 3174, 2143, 1312, 4901, 547],\n",
              " [1571, 4394, 4051, 1993, 3185, 1860, 420, 4821, 4642, 2257],\n",
              " [3851, 2565, 4015, 1858, 1737, 2127, 573, 2402, 4821, 4642, 2257],\n",
              " [3172, 4491, 350, 4821, 4642, 2257],\n",
              " [3973, 4403, 3850, 3692, 2670, 4821, 4642, 2257],\n",
              " [2257, 4304, 4281, 4821, 4642, 2257],\n",
              " [2516, 3792, 1653, 4497, 430, 2526, 350, 4185, 4821, 4642, 2257],\n",
              " [2827, 464, 386, 3072, 1309, 1838, 338],\n",
              " [1239, 2012, 1415, 795, 4438, 4393, 3605],\n",
              " [4336, 2808, 4280, 3048, 1634, 4394, 4821, 4642, 2257],\n",
              " [547, 3899, 458, 2355, 305, 3924, 1343, 716, 3773],\n",
              " [4056, 3885, 4852, 3681, 4904, 1814, 2697],\n",
              " [610, 547, 2345, 4304, 2967, 3081, 4282, 4821, 4642, 2257],\n",
              " [2848, 4785, 4097, 4462, 254, 2121, 1428, 4967],\n",
              " [3244, 2430, 1684, 646, 2607, 4821, 4642, 2257],\n",
              " [2930, 2517, 4332, 2827, 3293, 455, 4821, 4642, 2257],\n",
              " [3778, 4383, 888, 547, 3629, 4246, 3637],\n",
              " [1542, 3603, 111, 4629, 3232, 4380, 453, 4246, 4821, 4642, 2257],\n",
              " [4658, 3485, 547, 253, 1882, 4423, 4821, 4642, 2257],\n",
              " [3326, 547, 2411, 2630, 2150, 4271],\n",
              " [2039, 1653, 4777, 801, 3492, 4545, 2485, 3975, 4821, 4642, 2257],\n",
              " [4718, 3734, 4215, 137, 4282, 3565, 4539],\n",
              " [1838, 336, 2470, 2054, 652, 4821, 4642, 2257],\n",
              " [547, 3714, 683, 2368, 595, 3244, 4821, 4642, 2257],\n",
              " [2460, 2110, 3920, 3383, 2894, 2008, 2672, 4008],\n",
              " [662, 2067, 4438, 2],\n",
              " [2560, 1702, 4953, 4416, 3270, 4328, 1035, 4821, 4642, 2257],\n",
              " [4034, 2537, 2586, 2981, 2196, 3185, 3718, 1315, 1186, 3543, 2029, 3773],\n",
              " [3326, 547, 2611, 4282, 1238, 4400, 3887, 606, 4858, 1888, 4821, 4642, 2257],\n",
              " [2677, 3603, 3937, 114, 3477, 4821, 4642, 2257],\n",
              " [2941, 2086, 2205, 3557, 3485, 1280, 4821, 4642, 2257],\n",
              " [3326,\n",
              "  547,\n",
              "  2817,\n",
              "  4433,\n",
              "  3909,\n",
              "  3093,\n",
              "  3826,\n",
              "  4106,\n",
              "  386,\n",
              "  1927,\n",
              "  1248,\n",
              "  3840,\n",
              "  4821,\n",
              "  4642,\n",
              "  2257],\n",
              " [114, 423, 547, 3408, 2378, 945, 4821, 4642, 2257],\n",
              " [426, 3749, 1622, 4271, 4425, 4669],\n",
              " [547, 1209, 329],\n",
              " [2827, 2276, 4266, 3924, 2928, 650, 3773],\n",
              " [1990, 2721, 3843, 1940, 626, 1555, 4813, 547, 2108, 2, 3006, 3415, 1061],\n",
              " [2997, 4302, 2697, 4456, 4068, 2294, 1651, 2720],\n",
              " [1330, 1410, 2295, 548, 3294, 812, 137],\n",
              " [3047, 687, 4219, 1781, 2697],\n",
              " [2994,\n",
              "  2396,\n",
              "  1675,\n",
              "  4502,\n",
              "  3938,\n",
              "  4545,\n",
              "  3770,\n",
              "  548,\n",
              "  1984,\n",
              "  1827,\n",
              "  3031,\n",
              "  4821,\n",
              "  4642,\n",
              "  2257],\n",
              " [1157, 3909, 3093, 178, 3773],\n",
              " [3192, 3866, 336, 4388, 4526, 3953, 384, 1256, 4407],\n",
              " [2033, 2170, 4777, 3166, 4154, 2763, 2780, 1184],\n",
              " [383, 4729, 3605, 3947],\n",
              " [2791, 1860, 4829, 1443, 4850, 2793, 2672, 4066],\n",
              " [2777, 2362, 2956, 1655],\n",
              " [4421, 3174, 723, 1209, 380, 870, 857, 1872],\n",
              " [653],\n",
              " [3018, 3435, 1930, 2257, 297, 1294, 4821, 4642, 2257],\n",
              " [547, 4941, 4810, 3493, 3270, 4425],\n",
              " [520, 3803, 1558, 4061, 4971, 4821, 4642, 2257],\n",
              " [1939, 1130, 143, 3163, 2934, 3514, 547, 2013],\n",
              " [4307, 2241, 2945, 1156, 1882, 547, 1663],\n",
              " [2538, 2653, 3602, 4394, 870, 547, 1706, 3773],\n",
              " [1753, 3174, 1618, 2728, 877, 266, 2796, 2345, 4821, 4642, 2257],\n",
              " [1686, 3832, 950],\n",
              " [1560, 3153, 3852, 2282, 1319, 4821, 4642, 2257],\n",
              " [1967, 2751, 3960, 1038, 81, 4830, 2214, 1441, 1974, 3773],\n",
              " [4294, 3715, 2294, 1200, 2873, 4495, 1196, 1229, 4821, 4642, 2257],\n",
              " [723, 3909, 3826, 1922, 4126, 950, 3605],\n",
              " [4413, 2436, 4340, 281, 4704, 4989, 1669, 573, 2293, 3488, 1838],\n",
              " [3909, 2269, 2723, 1473, 2345],\n",
              " [4298, 3947, 547, 4669, 687, 4227, 4821, 4642, 2257],\n",
              " [829, 2039, 4092, 4044, 538, 2588, 4821, 4642, 2257],\n",
              " [650, 3383, 565, 71, 1177, 829],\n",
              " [2067, 4146, 945, 2567, 2215, 2529, 288, 4821, 4642, 2257],\n",
              " [2558, 1129, 2567, 1974, 2614, 4337],\n",
              " [3213, 4161, 4262, 4359, 2450, 2282, 4821, 4642, 2257],\n",
              " [158, 3505, 4305, 1882, 158, 2543, 461, 2978],\n",
              " [2791, 4382, 500, 646, 4495, 2388, 30, 3840, 949, 2588],\n",
              " [2723, 4718, 3411, 1408, 4344, 2806, 3773],\n",
              " [4250, 3193, 2957, 2308, 1930, 2717, 2173, 50, 4821, 4642, 2257],\n",
              " [4461, 4407, 2898, 927, 1930, 1678],\n",
              " [2535, 4725, 2489, 1905, 3916, 2912, 3299, 3518, 3427, 4407, 3773],\n",
              " [1663, 3238, 2831, 4420, 281, 3919, 3996, 3843],\n",
              " [2630, 2566, 1130, 1105, 3637, 4798],\n",
              " [547, 3251, 3318, 4913, 3703, 723, 114, 2332, 4821, 4642, 2257],\n",
              " [1167, 2660, 1195, 2863, 547, 297, 625, 2630, 4798, 3773],\n",
              " [4437, 3540, 4271, 547],\n",
              " [1306, 3359, 4438, 1542, 2301, 4084, 2231],\n",
              " [2318, 3470, 3083, 1126, 177, 886, 829, 1927, 3244],\n",
              " [3795, 1130, 2127, 4304, 547, 770],\n",
              " [723, 3449, 3326, 547, 731, 4225, 1475, 4264, 1362, 1675, 4821, 4642, 2257],\n",
              " [1838, 2288, 3427, 305, 740, 345, 2456, 4028, 1475, 57, 4821, 4642, 2257],\n",
              " [1708, 2132, 2204, 178, 4821, 4642, 2257],\n",
              " [2748, 3585, 61, 1046, 305, 3051, 144, 2191],\n",
              " [3909, 1139, 2298, 4147, 3909, 3477, 4627, 2826, 803],\n",
              " [4541, 3565, 454, 1196, 4971, 4821, 4642, 2257],\n",
              " [4097, 3145, 3271, 4383, 4438, 3639, 3138, 3115, 4821, 4642, 2257],\n",
              " [547, 71, 3501, 4871, 4438, 1757, 2109, 1829, 3644, 2894, 147, 2104, 3773],\n",
              " [1969, 1672, 4435, 130, 3128, 1797],\n",
              " [4383, 204, 3754, 2212, 2945, 3909, 1027, 870],\n",
              " [2230, 3568, 1105, 4407, 4976, 4821, 4642, 2257],\n",
              " [4235, 2716, 4718, 3064, 3585, 3796, 547, 2339, 3773],\n",
              " [327, 1364, 2653, 1528, 2209, 2367, 4184, 547, 4821, 4642, 2257],\n",
              " [1650, 1478, 2282, 4834, 3371, 4821, 4642, 2257],\n",
              " [4718, 4940, 3093, 2345, 1022, 491, 3148, 826, 4821, 4642, 2257],\n",
              " [2430, 3590, 1684, 2888, 1527, 705, 4435, 2959, 1362, 191, 877],\n",
              " [4376, 3600, 1363, 754, 4902, 401, 3530, 4821, 4642, 2257],\n",
              " [1130, 1835, 2039, 3932, 4778, 3318],\n",
              " [3427, 3594, 1507, 85, 3944, 1548],\n",
              " [3019,\n",
              "  4332,\n",
              "  4821,\n",
              "  4642,\n",
              "  2257,\n",
              "  4913,\n",
              "  2362,\n",
              "  2721,\n",
              "  4206,\n",
              "  1762,\n",
              "  4652,\n",
              "  2187,\n",
              "  3546,\n",
              "  4821,\n",
              "  4642,\n",
              "  2257],\n",
              " [1984, 2866, 1330, 1156, 3093, 4284, 3326, 547, 2013, 3773],\n",
              " [2293, 2791, 723, 2823, 2263, 4759, 3029, 2927, 2551, 1130, 3773],\n",
              " [1062, 3441, 961, 1939, 4821, 4642, 2257],\n",
              " [2446, 4906, 288, 2048, 4718, 4184, 3470],\n",
              " [1930,\n",
              "  2394,\n",
              "  4669,\n",
              "  4348,\n",
              "  1889,\n",
              "  4767,\n",
              "  3157,\n",
              "  4388,\n",
              "  1200,\n",
              "  1375,\n",
              "  3992,\n",
              "  436,\n",
              "  144,\n",
              "  3843],\n",
              " [1130, 384, 801, 1319, 692, 2599, 2039, 4810, 4821, 4642, 2257],\n",
              " [4140, 2685, 897, 547, 1930, 3749, 2213, 2447, 2450, 3773],\n",
              " [3064, 84, 2978, 829, 4304, 1333, 1782, 3773],\n",
              " [3851, 371, 1942, 4388, 4190, 4547, 266, 2111],\n",
              " [1553, 4752, 3064, 4730, 3693, 89, 2196],\n",
              " [1081, 2341, 3418, 3909, 3477, 2898, 646, 2898, 3885],\n",
              " [2999, 345, 2610, 4497, 4821, 4741, 84, 4821, 4642, 2257],\n",
              " [2362, 2298, 2842, 823, 4085, 3862, 4731, 1472, 594],\n",
              " [114, 3477, 1974, 1716, 902, 4803, 2194, 3773],\n",
              " [2674, 4718, 4435, 3603, 2981, 1343, 309, 2194, 3773],\n",
              " [861, 1497, 4705, 2760, 4086, 2683, 2996, 1888, 3569, 196],\n",
              " [3093, 1209, 3781, 4097, 3843, 3740, 3840, 1105, 2837, 2914, 2860, 40],\n",
              " [723, 983, 437, 2786, 4061, 547, 4821, 4642, 2257],\n",
              " [3724, 3734, 45, 4093, 2564, 3891, 930, 4821, 4642, 2257],\n",
              " [4188, 4061, 2428, 2111, 4331, 1073, 3015, 3658, 154],\n",
              " [342, 924, 4142, 4390, 1385],\n",
              " [4298, 547, 962, 3545, 4497, 102, 4803, 3773],\n",
              " [2837, 4810, 2257, 3318, 4821, 4642, 2257],\n",
              " [772, 2721, 1686, 2446, 3427, 4959, 4485, 1526, 1062, 4302, 3380],\n",
              " [2368, 1312, 3467, 3294, 1778, 4146, 945, 4821, 4642, 2257],\n",
              " [4558, 1438, 1785, 2873, 3552, 1729, 3773],\n",
              " [3403, 2577, 1220, 582, 2220, 3773],\n",
              " [547, 3629, 3216, 1126],\n",
              " [2811, 2630, 4706, 3079, 1925, 4821, 4642, 2257],\n",
              " [723, 4778, 870, 3983, 3241, 3865, 4810, 2931, 2374, 4821, 4642, 2257],\n",
              " [4821, 175, 1129, 1571, 2603, 1253, 3492, 930, 4183, 4821, 4642, 2257],\n",
              " [2784, 4210, 84, 1838, 2821, 3401, 266, 3773],\n",
              " [4071, 2390, 3937, 4282, 4812, 237],\n",
              " [3569, 4729, 4821, 4642, 2257],\n",
              " [3574, 3620, 723, 951, 4657, 2972, 1856, 2448],\n",
              " [3694, 1921, 3569, 3807, 415, 2812, 2018, 4499, 3901, 3773],\n",
              " [476, 897, 1586, 548, 1729, 4821, 4642, 2257],\n",
              " [2339, 380, 815, 547, 345, 3832, 1375, 4669, 1635, 729, 511, 3522, 3773],\n",
              " [3887, 4050, 2171, 2381, 4050, 2880, 1887, 4050],\n",
              " [2780, 3667, 2446, 4009, 2599, 4086, 4974, 4821, 4642, 2257],\n",
              " [3900, 4175, 522, 2647, 4706, 997],\n",
              " [1328, 983, 1762, 1415, 4102, 3602, 3152, 4651, 3181],\n",
              " [3122, 2362, 2956, 1655],\n",
              " [547, 2013, 2105, 3318, 1462, 4149, 2529, 3773],\n",
              " [547, 17, 3501, 2697, 4127, 1747, 1924, 4821, 4642, 2257],\n",
              " [3931, 4559, 4086, 2683, 3653, 4311, 2721, 3773],\n",
              " [1549, 876, 3335, 2365, 4075, 4935, 2105],\n",
              " [723, 3909, 3093, 2823, 3185, 2700, 2218, 1930],\n",
              " [3973, 297],\n",
              " [4800, 2327, 507, 2997, 4157, 1651, 1689],\n",
              " [4061, 3865, 4304, 342, 2313, 3089, 3832, 4821, 4642, 2257],\n",
              " [2587, 1777, 2173, 2400, 3128, 715, 1797, 4821, 4642, 2257],\n",
              " [1684, 3535, 2673, 547, 4493, 4606, 3251, 2259, 2830, 4539],\n",
              " [4096, 3475, 1970, 856, 829, 3394, 4786, 1970, 1066, 3594],\n",
              " [3917, 147, 4583, 3044, 4204, 803, 652, 4821, 4642, 2257],\n",
              " [158, 1228, 1888, 3418, 1616, 1930, 731, 2918, 2924, 1574, 4438, 4127],\n",
              " [2367],\n",
              " [4009, 1375, 3562, 3418, 444, 3605, 4842, 2104, 3773],\n",
              " [1961,\n",
              "  4851,\n",
              "  1193,\n",
              "  835,\n",
              "  3941,\n",
              "  4503,\n",
              "  512,\n",
              "  4438,\n",
              "  2793,\n",
              "  4267,\n",
              "  3232,\n",
              "  4821,\n",
              "  1345,\n",
              "  4451],\n",
              " [4009, 1375, 1712, 2447, 1438, 714, 4987, 3605, 889, 2673],\n",
              " [4066, 3471, 3377, 4497, 1470, 537, 4831, 2210, 384],\n",
              " [2560, 1006, 3677, 4219, 3185],\n",
              " [4821, 4895, 3695, 4630, 1930, 2525, 3344, 3167],\n",
              " [2164, 624, 4844, 626, 2874, 1539, 3064, 1413, 4827, 3773],\n",
              " [4816, 351, 4702, 886],\n",
              " [4050, 231, 1965, 3566, 2464, 4815, 3634, 4821, 4642, 2257],\n",
              " [4546, 1672, 1271, 3815, 955, 4387, 3739, 4821, 4642, 2257],\n",
              " [4509, 2905, 2, 693, 687, 3931],\n",
              " [1729, 4821, 4642, 2257],\n",
              " [2039, 3064, 3231, 1931, 1856, 2220],\n",
              " [1967, 2751, 3959, 2378, 503, 3039, 1423, 1378, 4865, 547],\n",
              " [1004, 1822, 2345, 147, 4438, 2358, 2927],\n",
              " [637, 2439, 1991, 1655, 1158, 4821, 4642, 2257],\n",
              " [3909, 3093, 588, 1969, 4333, 2471, 1473, 3023, 3411],\n",
              " [383, 2151, 991, 4629, 4328, 4834, 4821, 4642, 2257],\n",
              " [2037, 1889, 534, 3149, 4359],\n",
              " [4304, 4931, 3620, 4438, 2406, 3411, 1542],\n",
              " [826, 1982, 1651, 1398, 2343, 1432, 3016, 1403, 450, 4821, 4642, 2257],\n",
              " [4438, 2058, 3941, 2555, 3605, 3782, 4786, 2577],\n",
              " [3883, 4329, 1727, 2626, 1032, 4526, 1729, 4821, 4642, 2257],\n",
              " [3009, 4727, 2509, 4752, 3969, 4999, 4727, 3740, 3773],\n",
              " [4008, 4005, 395, 1971, 4425, 3722, 525, 3919, 1877, 1756],\n",
              " [2684, 4774, 723, 547, 3826, 914, 1212, 3425],\n",
              " [3083, 2567, 1875, 812, 1889, 1935, 2641, 1968, 4821, 4642, 2257],\n",
              " [1930, 2103, 2580, 1362, 1022, 4968, 2218, 2588],\n",
              " [1463, 1889, 2591, 646, 4438, 3469, 3773],\n",
              " [377, 2567, 3574, 4821, 4642, 2257],\n",
              " [1779, 503, 98, 2191, 3815, 889, 338, 3773],\n",
              " [4915, 1536, 2163, 4821, 4642, 2257],\n",
              " [4438, 179, 84, 4931, 1228, 462, 1542, 137, 1889, 4331, 4413, 1971],\n",
              " [4821, 3093, 2345, 2241, 577, 4302, 3555, 2471, 1473],\n",
              " [1573, 512, 84, 2566, 1051, 3753, 1930, 71, 4821, 4642, 2257],\n",
              " [2054, 2588, 4821, 4642, 2257],\n",
              " [1003, 2525, 850, 2449, 4821, 4642, 2257],\n",
              " [1812, 723, 336, 540, 2817, 803, 540, 625, 3773],\n",
              " [3543, 2945, 1441, 884, 4882, 4821, 2909, 4810, 4821, 4642, 2257],\n",
              " [4262, 1782, 1991, 1729, 4821, 4642, 2257],\n",
              " [3485, 393, 4125, 4347, 2608, 4821, 4642, 2257],\n",
              " [641, 4399, 547, 3644, 2543, 1471, 4821, 4642, 2257],\n",
              " [2625,\n",
              "  573,\n",
              "  2159,\n",
              "  4925,\n",
              "  4249,\n",
              "  386,\n",
              "  2039,\n",
              "  2170,\n",
              "  1194,\n",
              "  316,\n",
              "  4967,\n",
              "  3386,\n",
              "  1928,\n",
              "  2661],\n",
              " [829, 1969, 4491, 4939, 4382, 4338, 3749, 3773],\n",
              " [2077, 3304, 3292, 3386, 4883, 938, 1767, 4821, 4642, 2257],\n",
              " [2631, 4593, 59, 3152, 4777],\n",
              " [1105, 2837, 2560, 3843, 2345, 4851, 4704, 351, 1467],\n",
              " [3326, 547, 1630, 2572, 3718, 545, 4271, 4561, 3557, 4821, 4642, 2257],\n",
              " [1723, 3294, 4545, 1337, 521, 4438, 3181, 2294, 1286, 2092],\n",
              " [1319, 2210, 3741, 917, 4902, 4874],\n",
              " [2039, 3975, 3518, 33, 3973, 3224, 2187, 3471, 1170, 2282, 500, 3773],\n",
              " [4235, 3862, 4731, 3988, 3861, 4613, 23, 4153, 1150],\n",
              " [857, 731, 2918, 3319, 1919, 4127, 3231, 3557, 1169, 2535],\n",
              " [3909, 4799, 3326, 547, 4304, 1986, 3411],\n",
              " [4195, 547, 2016, 2612, 2196, 1408, 4599, 4778, 547, 3773],\n",
              " [831, 3714, 2445, 38, 2532, 4761, 1209, 3287, 3885, 4821, 4642, 2257],\n",
              " [547, 606, 1019, 2269, 3083, 4595, 4601, 2993, 2696, 4821, 4642, 2257],\n",
              " [3326, 547, 3982, 4343, 3971, 4987, 1651, 861, 1848, 895],\n",
              " [3312, 4226, 4270, 368, 1674, 4714],\n",
              " [1542, 4438, 3505, 4858, 2159, 2259, 2572, 3490, 516],\n",
              " [3942, 848, 1368, 2978, 1965, 3216],\n",
              " [1190, 2567, 1819, 2673, 3603, 1571, 4821, 4642, 2257],\n",
              " [130, 3620, 2630, 305, 1527, 345, 1908, 2721, 2683],\n",
              " [3009, 829, 3634, 723, 2537, 3605, 2577, 2978],\n",
              " [3153, 3283, 393, 667, 309, 150, 4821, 4642, 2257],\n",
              " [3599, 430, 147, 4084, 3941, 251, 983, 1248, 3970],\n",
              " [3949, 2752, 632, 902, 1155, 707, 4138, 3093, 4359, 1228, 2],\n",
              " [3185, 4102, 3620, 4080, 829, 646, 4093, 4821, 4642, 2257],\n",
              " [3386, 3620, 1965, 3727, 3093, 603],\n",
              " [547, 606, 2455, 1512, 2535, 1537, 4941, 4821, 4642, 2257],\n",
              " [1432, 3220],\n",
              " [547, 1296, 1214, 3891, 2330, 3427, 2205, 4974, 3163, 345, 280, 1885, 1663],\n",
              " [2485, 4633, 2039, 1319, 3488],\n",
              " [2213, 2439, 2092, 693, 1663],\n",
              " [1991, 4795, 3605, 1665, 1375, 3616, 4841],\n",
              " [2625,\n",
              "  3885,\n",
              "  4826,\n",
              "  3982,\n",
              "  1009,\n",
              "  1130,\n",
              "  920,\n",
              "  2700,\n",
              "  1856,\n",
              "  3885,\n",
              "  4826,\n",
              "  3982,\n",
              "  1009,\n",
              "  1130,\n",
              "  920,\n",
              "  2700,\n",
              "  1856,\n",
              "  4821,\n",
              "  3079,\n",
              "  3931],\n",
              " [689, 1889, 122, 1126, 950],\n",
              " [3392, 2748, 3128, 2840, 720, 196],\n",
              " [4009, 2560, 4080, 3501, 4629, 1495, 1343, 4355, 2588, 3947, 3138, 4778, 2],\n",
              " [4077, 3326, 547, 99, 1592, 3749, 4242, 4821, 4642, 2257],\n",
              " [3653, 1172, 1723, 1403, 4810, 2574, 2099, 4909, 3683, 4061, 3047, 3773],\n",
              " [2553, 2426, 4204, 2282],\n",
              " [1315,\n",
              "  3420,\n",
              "  723,\n",
              "  3585,\n",
              "  3749,\n",
              "  723,\n",
              "  1838,\n",
              "  4113,\n",
              "  1105,\n",
              "  559,\n",
              "  1507,\n",
              "  2847,\n",
              "  2563,\n",
              "  2042,\n",
              "  261,\n",
              "  4093,\n",
              "  3024,\n",
              "  1663],\n",
              " [2303, 2189, 1675, 857],\n",
              " [1253, 2529, 2396, 3093, 2259, 3557, 1200],\n",
              " [547, 650, 3574, 2259, 4821, 1345, 4451],\n",
              " [2353, 4023, 91, 2345, 3093, 547, 4225, 2130, 4821, 4642, 2257],\n",
              " [4376, 3380, 2630, 1544, 2100, 2084, 1046, 4821, 4642, 2257],\n",
              " [1930, 354, 318, 3918, 1130, 3547, 4302, 271, 4227],\n",
              " [4394, 453, 3832, 4657, 2972, 1856, 2220],\n",
              " [2784, 1940, 2535, 3680, 3949, 1908, 2259, 3083, 4657],\n",
              " [4927, 2827, 3592, 1096, 3324, 2220, 4087, 3064, 203, 1686, 3773],\n",
              " [1047, 4328, 1247, 3016, 1113, 3604],\n",
              " [1793, 4672, 1595, 4227, 1428, 4425, 3992],\n",
              " [1445, 3047, 3718, 3575, 801, 1037, 4094, 547],\n",
              " [250, 547, 1312, 668, 3815, 4821, 4642, 2257],\n",
              " [4718, 2380, 3822, 1970, 1362, 1654, 3887, 2887, 3502, 2086, 2362, 1390],\n",
              " [1482, 4859, 667, 547, 2697, 2418, 4741, 2121],\n",
              " [4931, 4026, 115, 3796, 340, 3766, 4788, 1058],\n",
              " [4363, 634, 3848, 4990, 2840, 2577, 74, 4444, 2924, 4821, 4642, 2257],\n",
              " [4187, 3388, 1549, 4061, 3850, 2200, 1253, 2063, 204, 4821, 4642, 2257],\n",
              " [2631, 2807, 673, 162, 2535, 2011, 4489, 4997, 3546],\n",
              " [3174,\n",
              "  2406,\n",
              "  4825,\n",
              "  4288,\n",
              "  4425,\n",
              "  3253,\n",
              "  2008,\n",
              "  4014,\n",
              "  2341,\n",
              "  1629,\n",
              "  547,\n",
              "  2008,\n",
              "  2672,\n",
              "  3773],\n",
              " [2613, 4668, 1495, 3585, 4704, 1312],\n",
              " [2918, 4821, 4642, 2039, 3231, 3500, 4741, 84, 4821, 4642, 2257],\n",
              " [547, 3501, 4485, 3447, 3999, 4260, 4821, 1663, 2684, 2039, 2758],\n",
              " [500, 2298, 2705, 2024, 3860, 2105, 2419, 1293, 4821, 4642, 2257],\n",
              " [2619, 547, 4187, 4931, 4810, 2588, 1930, 3717, 737, 3773],\n",
              " [960, 4931, 1103, 829, 4705, 150, 754, 137, 3632, 960, 4931],\n",
              " [2538, 1942, 3931, 3273, 3231, 4105, 3815, 3773],\n",
              " [2588, 3594, 1428, 2008],\n",
              " [4005,\n",
              "  1970,\n",
              "  2071,\n",
              "  336,\n",
              "  3599,\n",
              "  2550,\n",
              "  3315,\n",
              "  2287,\n",
              "  2436,\n",
              "  2516,\n",
              "  3490,\n",
              "  529,\n",
              "  4304,\n",
              "  4810,\n",
              "  3773],\n",
              " [4464, 3572, 4746, 1663, 4658, 437, 4466, 4821, 4642, 2257],\n",
              " [1490, 340, 3238, 2400, 1475, 1785, 2670, 4899, 1453],\n",
              " [3843, 625, 1248, 729, 2345],\n",
              " [3658, 3706, 2852, 2727, 453, 1655],\n",
              " [641, 2587, 4146, 641, 2948, 1847, 3909, 439, 547, 4146, 4913],\n",
              " [4435, 325, 795, 1619, 2313, 4741, 2567, 4834, 3505, 1663],\n",
              " [3909, 3093, 1838, 2162, 296, 3296, 2162, 4833, 2298, 4821, 4642, 2257],\n",
              " [4438, 4778, 4444, 3639, 647, 2999, 1968, 168],\n",
              " [4613, 384, 732, 2311, 4957, 1253, 3815, 2, 3749, 832],\n",
              " [4050, 2693, 1901, 2411, 1918, 834, 1930, 4663, 2906, 1209, 3773],\n",
              " [2263, 4759, 3492, 2663, 838, 3501, 4821, 4642, 2257],\n",
              " [2898, 547, 1130, 3270, 3843, 824],\n",
              " [1974, 3093, 2728, 4497, 3256, 3909, 3059],\n",
              " [1542, 2096, 3174, 3075, 936, 1636, 4068, 1470, 4054, 209, 3396, 2182],\n",
              " [2760, 2670, 2486, 3435, 2474, 1462, 976, 4821, 4642, 2257],\n",
              " [322, 829, 547, 3653, 1726, 144, 1204, 1113, 1248, 693, 3773],\n",
              " [1974, 3093, 251, 4086, 2246, 2630, 189, 4824, 723, 1969],\n",
              " [2248, 4962, 345, 1495, 3843, 4704, 4718, 4694, 1781],\n",
              " [3807, 547, 296, 3749],\n",
              " [4005, 2840, 3905, 2719, 2526, 1040, 2653, 1988, 4821, 4642, 2257],\n",
              " [4727, 1355, 863, 931, 3277, 1490, 3844, 3502, 4821, 4642, 2257],\n",
              " [2236, 3924, 4921, 2713, 3984, 424, 3773],\n",
              " [1040, 1779, 2411, 3942, 2758, 1918, 1675, 3881, 4821, 4642, 2257],\n",
              " [2046, 3734, 547, 3501, 3322, 2045, 337, 1146, 4740],\n",
              " [2347, 547, 848, 987, 4605, 4129, 4050, 4340, 2941],\n",
              " [2574, 1928, 86, 4994],\n",
              " [547, 3302, 464, 4542, 4311, 3931, 4425, 4959, 3773],\n",
              " [500, 2298, 2094, 4461, 4921, 3162, 1903, 354, 4821, 4642, 2257],\n",
              " [289, 2096, 3346, 4778, 368, 1480, 4821, 4642, 2257],\n",
              " [2911, 3420, 3585, 4242, 2394, 831, 4821, 4642, 2257],\n",
              " [2567, 4187, 1978, 2564, 3226, 1178, 1990, 3163, 4821, 4642, 2257],\n",
              " [1130, 3982, 2898, 86, 4777, 3667, 3477, 265, 4821, 4642, 2257],\n",
              " [231, 3302, 4610, 669, 1725, 2125, 3306, 4821, 4642, 2257],\n",
              " [2117, 2439, 2499, 377, 1679, 250, 4338, 2630, 2457],\n",
              " [3326, 547, 723, 2368, 2283, 945, 4821, 4642, 2257],\n",
              " [3750, 493, 4296, 2460, 2022, 50, 1345, 3952, 4233],\n",
              " [3575, 329, 2630, 4798, 212, 644],\n",
              " [4039, 2234, 2220, 1378, 3900, 1779, 2560, 540, 4454, 1965],\n",
              " [4394, 4106, 1248, 4821, 1969],\n",
              " [2625, 2039, 4668, 1390, 3620, 3909, 3594, 3185, 1530],\n",
              " [2784, 1940, 110, 1001, 4824, 4050, 4340, 3909, 3093],\n",
              " [547, 2458, 415, 1888, 3557, 4821, 4642, 2257],\n",
              " [1133, 2470, 1672, 981, 4882, 547, 1041, 1248, 1101, 1375],\n",
              " [1619, 17, 2535, 3602, 114, 2441, 772, 4821, 4642, 2257],\n",
              " [411, 3887, 848, 178, 1315, 3773],\n",
              " [4425, 4669, 1073, 2008, 646],\n",
              " [1403, 4610, 4630, 3801, 3172, 1403, 3294, 1204, 2723, 1556, 2844, 2543, 147],\n",
              " [1753, 1105, 3294, 2350, 4821, 4642, 2257],\n",
              " [178, 4084, 2453, 4420, 4821, 4642, 2257],\n",
              " [2997,\n",
              "  2696,\n",
              "  1651,\n",
              "  3885,\n",
              "  56,\n",
              "  4089,\n",
              "  328,\n",
              "  3964,\n",
              "  517,\n",
              "  2497,\n",
              "  2516,\n",
              "  3656,\n",
              "  1651,\n",
              "  1047,\n",
              "  1432,\n",
              "  861,\n",
              "  3742],\n",
              " [2339, 4913, 2357, 4648, 2529, 305, 2190, 3467, 3465, 3738, 3773],\n",
              " [2400, 1672, 944, 2599, 509, 2521, 630, 3773],\n",
              " [2345, 1542, 1907, 2267, 4446, 3302, 1265, 4351, 3565, 573, 2293],\n",
              " [264, 3238, 1644, 788, 391, 701, 4663, 2981, 2611, 584, 2752, 153, 3773],\n",
              " [3891, 937, 2191, 2610, 902, 4037, 4332, 4187, 541],\n",
              " [4384, 522, 1298, 1577, 1004, 2795, 4438, 4061, 2866, 3352, 4798, 3773],\n",
              " [4652, 4864, 3202, 137, 4729, 1907],\n",
              " [651, 2531, 3280, 2197, 2213, 3709, 4288, 1027, 2981, 3773],\n",
              " [2442, 4791, 4798, 3149, 3557, 3859, 4426],\n",
              " [1923, 137, 4249, 4821, 4642, 2257],\n",
              " [955, 3326, 547, 2536, 3989, 3851, 945, 4821, 4642, 2257],\n",
              " [355, 3909],\n",
              " [4249, 170, 3501, 3592, 1372, 4821, 4642, 2257],\n",
              " [2625, 4600, 4491, 372, 2383],\n",
              " [2891, 3093, 1908, 4227],\n",
              " [500, 3756, 1901, 650, 548, 2945, 547, 4821, 4642, 2257],\n",
              " [159, 2631, 2954, 372, 4821, 4642, 2257],\n",
              " [3909, 3093, 2746, 2341, 1556, 4821, 4642, 2257],\n",
              " [45, 4480, 53, 385, 3832, 3166, 371],\n",
              " [547, 2447, 1038, 3439, 395],\n",
              " [3909, 3414, 2785, 3380, 2709, 4249, 420, 2145, 3432],\n",
              " [1896, 3163, 3832, 4493, 2267, 4821, 4642, 2257],\n",
              " [3684, 930, 4273, 2850, 4073, 4821, 4642, 2257],\n",
              " [547, 196, 3441, 2705, 1209, 3030, 4821, 4642, 2257],\n",
              " [4376, 682, 4146, 4087, 551, 3543, 449, 3993, 4821, 4642, 2257],\n",
              " [2238, 2760, 3083, 4595, 3585, 4338, 384, 1193, 1930, 4821, 4642, 2257],\n",
              " [4636, 547, 3941, 1555, 4464, 3734, 3773],\n",
              " [4282, 2723, 3093, 2345, 4921, 4092, 4982, 3938, 1927, 547, 1884],\n",
              " [450, 3044, 4768, 3467, 343],\n",
              " [2368, 1019, 1804, 3695, 2439, 3603, 3695, 2614, 3994, 3773],\n",
              " [273, 3557, 2931, 3562, 1218, 4729, 1822, 1698],\n",
              " [4102, 4444, 2205, 634, 3605, 445, 2192],\n",
              " [2590, 1675, 1200, 4426, 1096, 1575, 4912, 4821, 4642, 2257],\n",
              " [4609, 3825, 587, 4438, 423, 2],\n",
              " [547, 1093, 4597, 803, 829, 1969, 4333, 3603, 3727],\n",
              " [472, 547, 84, 2996, 4768, 4249, 2450, 3773],\n",
              " [458, 3749, 829, 864, 2421, 889, 2673, 2588, 646, 3326, 547],\n",
              " [3115, 3944, 2],\n",
              " [771, 3952, 1399, 4076, 3197, 2849, 699, 4154, 2513, 4825, 485, 4844],\n",
              " [4394, 453, 3832, 2898, 4657, 2972, 1856, 2220],\n",
              " [1571, 4102, 3971, 377, 144, 2538, 3562],\n",
              " [1479, 3559, 833, 2861, 2614, 2717, 1133, 4407, 3585],\n",
              " [4630, 1918, 3909, 3093, 491],\n",
              " [2613, 3660, 1927, 3253, 1762, 1968],\n",
              " [2, 3982, 4106, 4821, 4704],\n",
              " [3909, 4102, 4774, 723, 3891],\n",
              " [2675,\n",
              "  4824,\n",
              "  1819,\n",
              "  2677,\n",
              "  3581,\n",
              "  3190,\n",
              "  1390,\n",
              "  1040,\n",
              "  4302,\n",
              "  1928,\n",
              "  4827,\n",
              "  4821,\n",
              "  4642,\n",
              "  2257],\n",
              " [2625,\n",
              "  770,\n",
              "  3805,\n",
              "  4888,\n",
              "  329,\n",
              "  3796,\n",
              "  770,\n",
              "  3805,\n",
              "  4888,\n",
              "  329,\n",
              "  3796,\n",
              "  315,\n",
              "  3392,\n",
              "  4265],\n",
              " [3326, 547, 2978, 24, 2215, 3851, 945, 4821, 4642, 2257],\n",
              " [1812, 4028, 4774, 723, 1654, 3097, 4594, 327],\n",
              " [3302,\n",
              "  4184,\n",
              "  4497,\n",
              "  1306,\n",
              "  850,\n",
              "  2084,\n",
              "  2287,\n",
              "  4789,\n",
              "  717,\n",
              "  4438,\n",
              "  4497,\n",
              "  114,\n",
              "  3477,\n",
              "  2184,\n",
              "  3773],\n",
              " [4477,\n",
              "  3402,\n",
              "  3562,\n",
              "  2191,\n",
              "  2614,\n",
              "  1366,\n",
              "  1850,\n",
              "  1557,\n",
              "  1508,\n",
              "  307,\n",
              "  3418,\n",
              "  2762,\n",
              "  4272,\n",
              "  3773],\n",
              " [1579, 3794, 3623, 4493, 3233],\n",
              " [463, 2046, 573, 2042, 1131, 4902, 4821, 4642, 2257],\n",
              " [646, 4227, 284, 2355, 3224, 2],\n",
              " [3863, 4691, 2630, 850, 4019, 4821, 854, 1362, 4391, 1342, 992, 1929],\n",
              " [547, 4931, 1882, 2999],\n",
              " [280, 2529, 4161, 1810, 3034, 2791, 975, 1928],\n",
              " [3138, 1875, 4127, 3604, 1040, 2914, 4368, 4821, 4642, 2257],\n",
              " [3411, 2196, 4175, 3231, 1930, 2793, 4504, 1663],\n",
              " [4509, 3557, 4509, 2460, 2472, 4446],\n",
              " [4250, 788, 3174, 3045, 2721, 137, 1889, 4665, 1729, 4821, 4642, 2257],\n",
              " [307, 489, 2039, 1319, 2780, 1130, 71, 401, 1684, 4821, 4642, 2257],\n",
              " [3260, 4899, 3563, 2588, 3202, 2653, 1596, 3115],\n",
              " [67, 3435, 2039, 4070, 908, 2143, 3872, 343, 4821, 4642, 2257],\n",
              " [4225, 1343, 4183, 573, 2293],\n",
              " [3293, 1390, 1672, 2098, 4953, 3967, 4778, 1969, 3346, 4821, 4642, 2257],\n",
              " [4310, 325, 2602, 3796, 4086, 2184, 4810, 927, 2735],\n",
              " [4425, 4669, 4727, 3700, 4820, 1101, 547],\n",
              " [3603, 850, 2928, 3326, 547, 1829, 3166, 1684],\n",
              " [3773, 2721, 2362, 2108, 2, 3773],\n",
              " [547, 3931, 2890, 4492],\n",
              " [4009, 1576, 1804, 4810, 2954, 3971, 498, 4884, 1663, 3773],\n",
              " [4282, 1990, 2852, 2727, 1715, 547, 4821, 4642, 2257],\n",
              " [1480, 3229, 377, 3843, 4623, 4798, 740, 3163, 4821, 4642, 2257],\n",
              " [3465, 1045, 1729, 1093, 4169, 2117, 4821, 4642, 2257],\n",
              " [2677, 3465, 2697, 1936, 3931, 650, 547, 3773],\n",
              " [1762, 1998, 189, 1265, 1839, 1875, 1998, 3402, 646],\n",
              " [3166, 4383, 2799, 1125, 2653, 1625],\n",
              " [1337, 4821, 322, 3749],\n",
              " [2377, 278, 4810, 1850, 1991, 2574],\n",
              " [4376, 1653, 1299, 4394, 4080, 3616, 62, 2945, 547, 4821, 4642, 2257],\n",
              " [2660],\n",
              " [2653, 56, 2700],\n",
              " [547, 2567, 1272, 4282, 2217],\n",
              " [4407, 2174, 970, 1653, 1462, 4981, 3815, 4070, 4821, 4642, 2257],\n",
              " [2396, 1253, 650, 4821, 4642, 3543, 1744, 4821, 4642, 2257],\n",
              " [551, 2010, 1903, 1716, 3040, 327, 3773],\n",
              " [584, 551, 4311, 3578, 1779, 3211, 2838, 1051, 4821, 4642, 2257],\n",
              " [855, 3055, 4913, 450, 4729, 3569, 4821, 4642, 2257],\n",
              " [3796, 1126, 2267, 4821, 4642, 2257],\n",
              " [3727, 4025, 3909, 2780, 2699, 1631],\n",
              " [1974, 2281, 826, 1196, 547, 3557, 3840, 4187, 4821, 610, 4821, 4642, 2257],\n",
              " [338, 2759, 3326, 547, 1848, 4821, 4642, 2257],\n",
              " [3027,\n",
              "  4803,\n",
              "  1563,\n",
              "  547,\n",
              "  4304,\n",
              "  4821,\n",
              "  137,\n",
              "  2355,\n",
              "  573,\n",
              "  2567,\n",
              "  2447,\n",
              "  4274,\n",
              "  3796,\n",
              "  2567],\n",
              " [3025, 1315, 3749, 2780, 540, 3594, 1860, 4425, 3253, 3925, 1991, 3773],\n",
              " [3326, 547, 2535, 4778, 2827, 2117, 4416, 3632, 3658, 4927, 3592],\n",
              " [3631, 2671, 1930, 1727],\n",
              " [1974, 2721, 1785, 1889, 137, 2089, 2984, 1729, 4821, 4642, 2257],\n",
              " [3131, 4658, 1679, 2978, 4798, 578, 2371, 4328, 4821, 4642, 2257],\n",
              " [3467, 3181, 1974, 1879, 2516, 2335, 31],\n",
              " [2565, 4951, 2573, 1675, 110, 1729, 4821, 4642, 2257],\n",
              " [168, 512, 3174, 3887, 4337, 4810, 4438, 2701, 3773],\n",
              " [3022, 3959, 1529, 2896, 3359, 4415, 3592, 4315],\n",
              " [2339, 4305, 281, 2368, 3714, 99, 4806, 1200, 3714, 3773],\n",
              " [4338, 3344, 359, 3668, 2070],\n",
              " [2205, 3047, 1121, 4493, 4594, 3706, 4821, 4642, 2257],\n",
              " [802, 4292, 458, 2628, 1359, 4271, 3093, 4821, 4642, 2257],\n",
              " [547, 4271, 848, 582, 1238, 1180, 2603, 3703],\n",
              " [1819, 2358, 3644, 3034, 343, 1441],\n",
              " [547, 158, 4304, 4129, 3594, 3477, 3773],\n",
              " [1990, 1147, 4858, 2379, 3546, 1075, 4729, 4652, 3973, 1877, 2502],\n",
              " [4931, 4941, 4630, 2906, 547, 3629, 2227, 3891, 2344, 3411],\n",
              " [4367, 1739, 2067, 4383, 2731, 4832, 4821, 4642, 2257],\n",
              " [2723, 3093, 2345, 4921, 4092, 4982, 3938, 1927, 547, 1884],\n",
              " [3909, 3213, 3620, 2127, 1125, 4766, 3826],\n",
              " [1038, 571, 1248, 82, 4810, 2847, 3581, 4821, 4642, 2257],\n",
              " [3941, 4113, 1809, 1038, 1903, 196, 176, 1401, 2, 929, 3932, 4778],\n",
              " [1974, 3093, 3826, 4497, 2850, 1408, 1908, 3909, 2],\n",
              " [3988, 4798, 2250, 4780, 305, 4532, 2298, 4821, 4642, 2257],\n",
              " [547, 4699, 950, 1542, 975, 3942, 4821, 4642, 2257],\n",
              " [307, 2026, 3594, 3605, 4572, 3518, 1820, 1940, 4821, 4642, 2257],\n",
              " [4669, 4370, 1653, 707, 1575, 1675],\n",
              " [1889, 4066, 722, 1501, 3992, 650, 178, 2535, 4361, 1968],\n",
              " [1511, 1312, 4236, 3882, 3714, 582, 4187],\n",
              " [1762, 3149, 4369, 3695],\n",
              " [4633, 2039, 2806, 3927, 2229, 3543, 453, 2117, 3891, 1200, 1712, 3017, 3773],\n",
              " [3603, 1131, 2777, 3502, 674, 4029, 675],\n",
              " [683, 2869, 329, 4363, 158, 3514, 3932, 4778],\n",
              " [3653,\n",
              "  1040,\n",
              "  1038,\n",
              "  81,\n",
              "  1441,\n",
              "  2205,\n",
              "  4384,\n",
              "  1499,\n",
              "  2687,\n",
              "  1367,\n",
              "  2760,\n",
              "  3181,\n",
              "  178,\n",
              "  3773],\n",
              " [1339, 3044, 4458, 1991, 1455, 4774, 723],\n",
              " [3503, 1248, 2509, 1885, 4407, 818, 2376, 3546, 4821, 4642, 2257],\n",
              " [1663, 4563, 1882, 547, 3501, 4485, 4249, 772, 2721, 4187, 3346],\n",
              " [2918, 3826, 4282, 2537, 4227],\n",
              " [2054, 114, 2597, 1884],\n",
              " [3181, 2928, 796, 486, 4132, 142, 4821, 4642, 2257],\n",
              " [4627, 1674, 1793, 908, 4034, 929, 4821, 4642, 1549, 4821, 4642, 2257],\n",
              " [222, 2760, 2331, 4407, 3947, 1474, 1542, 826, 4821, 4642, 2257],\n",
              " [2485, 1876, 2535, 3091, 1319, 4187, 2283, 4821, 4642, 2257],\n",
              " [114, 2441, 848, 3901, 3327, 1441, 4282, 3773],\n",
              " [3603, 1838, 2027, 2213, 2827, 1591, 2150, 4439],\n",
              " [795, 1889, 3174, 2777, 740, 3386, 3880, 802, 1228, 2941, 1170, 2526],\n",
              " [540, 4767, 4249, 3909, 3093, 4249, 1176, 842],\n",
              " [3181, 1842, 810, 4913, 4644, 1773, 4493, 4821, 4642, 2257],\n",
              " [4198, 4853, 1067, 4315, 476, 3294, 1075, 3294, 4821, 4642, 2257],\n",
              " [2967, 4279, 723, 1306, 3093, 930, 4534, 4821, 4642, 2257],\n",
              " [2614, 2731, 1405, 547, 2220, 4670, 4821, 4642, 2257],\n",
              " [3055, 3861, 4438, 521, 4630, 1307, 1829, 740, 3722, 729],\n",
              " [547, 2358, 4594, 1484, 2791, 646, 2793, 4821, 4642, 2257],\n",
              " [1595, 1202, 2039, 3386, 2205, 1990, 2231, 436, 1040, 3992, 1910],\n",
              " [2625, 2626, 378, 785, 3852, 3043, 2626, 2925, 1049, 644],\n",
              " [2540, 3050, 547, 1833, 1971, 4850, 4941, 4821, 4642, 2257],\n",
              " [4889, 4407, 2630, 2145, 1810, 4114, 3015, 3761, 3773],\n",
              " [2525, 1555, 2023, 3518, 4821, 4642, 2257],\n",
              " [3945, 207, 4535, 309, 4249, 2901, 3843, 354, 4821, 4642, 2257],\n",
              " [850, 4810, 2303, 4225, 1293, 4409, 3253],\n",
              " [4438, 2700, 2448, 34, 3418, 3292, 3359, 4273, 4821, 4642, 2257],\n",
              " [4093, 4630, 2639, 296, 4821, 4642, 2257],\n",
              " [1061, 2981, 4940, 3449, 2588, 646, 3326, 547],\n",
              " [1209, 3492, 1074, 4298, 2227, 144, 1796, 4394, 4821, 4642, 2257],\n",
              " [3253, 3377, 4485, 4883, 383, 4307, 415],\n",
              " [998, 3605, 4253, 1777, 2241, 3167, 1228, 4821, 4642, 2257],\n",
              " [3759, 1599, 2945, 4821, 4642, 2257],\n",
              " [785, 1035, 3329, 1046, 1629, 3435, 4171],\n",
              " [2388, 4731, 4844, 1900, 4119, 3464, 4187],\n",
              " [1180, 3923, 2925, 3185, 1619, 82, 1190, 383, 3426, 2448, 4821, 4642, 2257],\n",
              " [4128, 3651, 1800, 3329, 3859, 1829, 3055, 3773],\n",
              " [2188, 145, 2616, 2215, 353, 2071, 1542, 2564, 595, 998, 4821, 4642, 2257],\n",
              " [2723, 2632, 4821, 4921, 2345, 3093, 1769, 4425, 2366],\n",
              " [1529, 2314, 4438, 2468, 2762, 1202],\n",
              " [3174, 3862, 2042, 547, 3211, 3697, 3887, 1150, 620],\n",
              " [4435, 850, 1006, 3765, 1804, 1293],\n",
              " [1618, 4215, 111, 1479, 4704, 4438, 4005, 1432],\n",
              " [4400, 4539, 4119, 3246, 4821, 4642, 2257],\n",
              " [3326, 547, 1921, 4492, 4209, 1930, 3490, 4699, 4821, 4642, 2257],\n",
              " [3971, 1918, 2070, 908, 2167, 1275, 4821, 4642, 2257],\n",
              " [3467, 2163, 145, 1778, 4146, 945, 4821, 4642, 2257],\n",
              " [4376, 2673, 3386, 1815, 15, 4658, 4093, 4821, 4642, 2257],\n",
              " [3484, 3449, 887, 2406, 345, 2981, 2188, 948, 3064, 4821, 4642, 2257],\n",
              " [2, 1459, 4705, 423, 2, 4061, 2359],\n",
              " [3600, 368, 763, 2723, 2696, 4718, 1248, 4652, 4821, 3093, 2345, 4921],\n",
              " [3326, 547, 3312, 4086, 3639, 930],\n",
              " [4331, 4509, 2218, 1516, 2705, 2588, 4821, 4642, 2257],\n",
              " [2400, 2537, 3827, 1130, 84, 2069, 3605, 4495, 4821, 4642, 2257],\n",
              " [1463, 3594, 3832, 1237, 2142],\n",
              " [258, 4491, 4729, 4652, 4249, 485, 547, 3684, 4851, 3773],\n",
              " [3220, 2930],\n",
              " [1101, 3771, 2084, 1877, 802, 445, 2212, 2008],\n",
              " [4959, 1348, 3909, 3093, 2205, 1966, 2105, 2],\n",
              " [4442, 3963, 542, 1007, 2972, 4267, 3232, 4821, 4642, 2257],\n",
              " [4282, 3145, 4705, 795, 3270],\n",
              " [4184,\n",
              "  1651,\n",
              "  2287,\n",
              "  2262,\n",
              "  1651,\n",
              "  1124,\n",
              "  1530,\n",
              "  3071,\n",
              "  1783,\n",
              "  1651,\n",
              "  4754,\n",
              "  4632,\n",
              "  2997,\n",
              "  1917,\n",
              "  3222,\n",
              "  2997],\n",
              " [4061, 2008, 1362, 3308, 4235, 650],\n",
              " [1419, 1847, 4573, 1116, 3380, 936],\n",
              " [547, 2, 1990, 1149, 930, 4900],\n",
              " [672, 4630, 1901, 3993, 3718, 2588, 1930, 4768, 848, 3773],\n",
              " [857, 4704, 2742, 547, 4991, 1724, 1306, 2194, 723],\n",
              " [1576, 3282, 547, 159, 503, 2329, 818, 843, 2069, 3557],\n",
              " [1363, 926, 4198],\n",
              " [2497, 4485, 1090, 1209, 848, 896],\n",
              " [2371, 2566, 2526, 3386, 3318, 3700, 4821, 4642, 2257],\n",
              " [418, 1512, 2697, 945, 2725, 2247, 4149, 4341, 729, 2740, 3773],\n",
              " [778, 342, 1707, 3999, 2418, 521, 1839, 4945, 85, 1403],\n",
              " [3174, 3694, 4407, 1744, 4337, 2558, 2439, 354, 3773],\n",
              " [540, 3620, 1097, 4642, 1037, 3459, 680, 309],\n",
              " [3047, 1557],\n",
              " [1642, 2035, 3112, 461, 2820, 1022, 4821, 4642, 2257],\n",
              " [3694, 1090, 4407, 284, 10, 3982, 4187, 3773],\n",
              " [4982, 2298, 3909, 4478, 1851, 182, 4936],\n",
              " [3181, 2128, 4005, 1796, 4075, 4821, 4642, 2257],\n",
              " [1703, 875, 3273, 4953, 2647, 4821, 4642, 2257],\n",
              " [1059, 4514, 4852, 3349, 4691, 4821, 4642, 2257],\n",
              " [280, 4860, 2802, 3355, 832, 4629, 4821, 4642, 2257],\n",
              " [547, 2496, 606, 3457, 1596, 4184, 351, 4008, 1129, 4821, 4642, 2257],\n",
              " [4363,\n",
              "  1936,\n",
              "  4630,\n",
              "  785,\n",
              "  829,\n",
              "  59,\n",
              "  4169,\n",
              "  1239,\n",
              "  3204,\n",
              "  2746,\n",
              "  4913,\n",
              "  4274,\n",
              "  2932,\n",
              "  4821,\n",
              "  4642,\n",
              "  2257],\n",
              " [4491, 3393, 2472, 3533, 45, 4821, 4642, 2257],\n",
              " [2551, 2207, 99, 2741, 84, 547, 3072],\n",
              " [3174, 547, 4594, 2603, 3703, 848, 1428, 2358, 1038, 81, 3773],\n",
              " [3600, 4266, 3924, 3246, 284, 442, 1101, 2399, 4425, 3773],\n",
              " [2436, 4438, 3312, 1679, 4821, 3909, 2345, 4744, 1459, 207, 2941, 2723],\n",
              " [2777, 391, 4606, 2436, 3971, 3883, 4821, 4642, 2257],\n",
              " [3353, 655, 2042, 2955],\n",
              " [4086, 2170, 3517, 2898, 1177, 2630],\n",
              " [685, 3467, 2205, 2189, 1769, 2599, 3507, 3773],\n",
              " [4376, 2426, 670, 715, 4823, 650, 1529, 4821, 4642, 2257],\n",
              " [1796, 1991, 1762, 772, 3337, 3798, 453, 4034, 4039, 4992, 1762],\n",
              " [3618, 2057, 3609, 4821, 4642, 2257],\n",
              " [3503, 2638, 3909, 1507, 4777, 4606, 2630, 2287, 2085],\n",
              " [1511, 2368, 2802, 818, 1965, 264, 4879, 2341, 705, 1961, 3773],\n",
              " [4981, 777, 723, 3162, 3294, 2301, 2345, 4821, 4642, 2257],\n",
              " [864, 4246, 3569, 547, 3653],\n",
              " [2095, 2293, 3565, 1966],\n",
              " [1553, 181, 1903, 3411, 4097, 2543, 805, 3155, 4821, 4642, 2257],\n",
              " [521, 3796, 496, 2446, 1415, 2702, 646, 3326, 547],\n",
              " [4102, 3386, 147, 552, 634, 3297, 2535, 2999, 4821, 4642, 2257],\n",
              " [4128, 343, 4931, 3992, 430, 1663],\n",
              " [2023, 3071, 1120, 354, 2889, 3174, 2355, 1629, 383, 4821, 4642, 2257],\n",
              " [3909, 1526, 4363, 3390, 1473, 2975],\n",
              " [2946, 2520, 4698, 1249, 124, 4146, 945, 4821, 4642, 2257],\n",
              " [324, 3173, 4810, 2396, 354, 4728, 3138, 4704, 507],\n",
              " [1940, 3093, 1209, 3927, 884, 3722, 2263, 512, 1883, 2543],\n",
              " [521, 650, 547, 2780, 2086, 1302, 3212, 4821, 4642, 2257],\n",
              " [2999, 2217, 3605, 1515, 2577, 2555],\n",
              " [2611, 3909, 2367],\n",
              " [1990, 2459, 3573, 4497, 1467, 2968, 4921, 3909, 1385],\n",
              " [2634, 4736, 3020, 4809, 1202, 3287, 1970, 4821, 4642, 2257],\n",
              " [1889, 3022, 3959, 1575, 1991, 62, 2104, 2882, 1314, 3959, 1838, 4905, 1490],\n",
              " [2827, 2675, 3392, 160, 595, 3244, 650, 4821, 4642, 2257],\n",
              " [2625,\n",
              "  2054,\n",
              "  4204,\n",
              "  599,\n",
              "  4816,\n",
              "  2436,\n",
              "  2054,\n",
              "  4204,\n",
              "  599,\n",
              "  4816,\n",
              "  2436,\n",
              "  626,\n",
              "  1181,\n",
              "  4892,\n",
              "  2058],\n",
              " [4336, 4214, 2313, 4718, 3659, 3149, 3432, 2723, 2950, 4698, 3337],\n",
              " [1930, 4376, 4531, 516, 848, 1705, 4146, 4669],\n",
              " [4009, 3299, 4497, 4438, 367, 3154, 210, 3885, 2817, 132],\n",
              " [584, 4438, 4304, 3503, 2437, 4804, 1990, 2721, 1663],\n",
              " [4184, 3796, 67, 4382, 1415, 2135, 4264, 1312, 2023, 4821, 4642, 2257],\n",
              " [4146, 945, 3909, 3093, 3326, 547, 2762, 4359, 4821, 4642, 2257],\n",
              " [560, 2210, 150, 1075, 1969, 3885, 2029, 4070, 4810, 4583, 3727],\n",
              " [2023, 3071, 4149, 4509, 4821, 2722, 4821, 4642, 2257],\n",
              " [3787, 522, 3444, 2824, 725, 2653, 3223, 4821, 4642, 2257],\n",
              " [2163, 3718, 4696, 1930, 615, 1126, 1827, 3031],\n",
              " [3326, 547, 1796, 2380, 281, 3392, 1939],\n",
              " [4009, 704, 445, 4149, 2555, 1889, 4226, 1889, 4227, 1770, 3773],\n",
              " [170, 4383, 1764, 3941, 927, 2520],\n",
              " [3592, 1202, 1654, 1686, 869],\n",
              " [3179, 4367, 4520, 808, 3850],\n",
              " [4235, 2716, 2947, 1675, 601, 1209, 3773],\n",
              " [2400, 1335, 547, 878, 4271, 1362, 4297, 1901, 3734, 4821, 4642, 2257],\n",
              " [4014, 3465, 2906, 848, 896, 4271, 2406, 3029, 3773],\n",
              " [513, 2088, 548, 3832, 2303],\n",
              " [4438, 2896, 383, 1905, 857, 2200, 2145, 1593, 4821, 4642, 2257],\n",
              " [2994, 4810, 3487, 4741, 1895, 4821, 4642, 2257],\n",
              " [586, 2877, 3557, 2117, 2653, 1762, 4098],\n",
              " [2362, 2643, 4266, 3923, 4629],\n",
              " [231, 3163, 4698, 4736, 646, 547, 3852, 3757, 2918, 384, 1888, 4023],\n",
              " [4553, 995, 4378, 3725, 380, 547, 4669, 2189, 4821, 4642, 2257],\n",
              " [582, 3480, 4834, 2662, 1965, 1769, 4826, 3796, 1827],\n",
              " [2653, 1130, 1415, 4407, 2638, 4704, 4821, 4642, 2257],\n",
              " [1355, 1405, 4336, 1643, 2997, 4064, 4821, 4642, 2257],\n",
              " [2723, 1993, 1130, 2282, 3877, 4438, 3209, 409, 4502],\n",
              " [1986, 3659, 2396, 2328, 261, 305],\n",
              " [3064, 2552, 3174, 1249, 3988, 3905, 3815, 386, 3315],\n",
              " [4938, 4425, 3253, 1253, 3749, 2445, 3941],\n",
              " [1990, 3110, 1319, 4821, 3605, 295, 796, 4821, 4642, 2257],\n",
              " [4425, 4669, 3525, 3605, 2166, 4490],\n",
              " [4304,\n",
              "  547,\n",
              "  2934,\n",
              "  4347,\n",
              "  4167,\n",
              "  62,\n",
              "  1930,\n",
              "  4086,\n",
              "  2683,\n",
              "  4136,\n",
              "  3749,\n",
              "  2607,\n",
              "  1969,\n",
              "  3773],\n",
              " [3909, 3093, 4271, 4497, 2607, 646, 473, 3557],\n",
              " [4913, 586, 3421, 1040, 3625, 3463, 2705],\n",
              " [2457, 3843, 3318, 309, 422],\n",
              " [4846, 4541, 3565, 4810, 309, 4008, 3565],\n",
              " [20, 1202, 2220, 4271, 848, 896, 224, 4061],\n",
              " [582, 2220, 4721, 305, 4805, 4175],\n",
              " [86, 2516, 3718, 3344, 4302, 2630, 4821, 4642, 2257],\n",
              " [944, 1072, 4905, 1490, 3605, 1553, 277, 855],\n",
              " [547, 1250, 855, 4383, 3055, 3861, 3396, 3017, 4821, 4642, 2257],\n",
              " [3773, 2721, 2362, 2368, 4805, 3773],\n",
              " [3909, 3594],\n",
              " [4114, 4061, 735, 3651, 4106, 3822, 1102, 2683],\n",
              " [3326, 547, 231, 4482, 2791, 2378, 4146, 945, 4821, 4642, 2257],\n",
              " [723, 2248, 4259, 624, 3149, 841, 4466],\n",
              " [2997, 4939, 1969, 1475, 3606, 2786, 3632, 3773],\n",
              " [1651, 1890, 3584, 2640, 2848, 4359],\n",
              " [752, 713, 1038, 1854, 4242, 2240, 4435, 1432, 3773],\n",
              " [2438, 702, 1651, 384, 416, 4821, 4642, 2257],\n",
              " [1779, 2439, 1453, 1410, 377, 996, 3440, 2876, 3703, 2189, 3773],\n",
              " [1762, 3562, 875, 1229, 2220, 3594, 386, 1927],\n",
              " [547, 71, 3015, 4708, 4127, 1415, 1022, 4821, 4642, 2257],\n",
              " [2345, 1451, 584, 4282, 3031],\n",
              " [2675, 3605, 4486, 4821, 4642, 2257],\n",
              " [2625, 2898, 3492, 1903, 4341],\n",
              " [4282, 2723, 3093, 2345, 4921, 4092, 4982, 3938, 1927, 547, 1884],\n",
              " [4438, 2210, 3546, 2555, 2084, 552, 196, 1782, 4821, 4642, 2257],\n",
              " [4464, 4493, 3603, 1652, 1248, 1403, 4367, 1908, 1829],\n",
              " [1763, 995, 3594, 2220, 4657, 2972, 1856, 3796, 85],\n",
              " [547, 2493, 2610, 2189, 4829, 2898, 1502, 2145, 4821, 4642, 2257],\n",
              " [547, 385, 4921, 3696, 2174],\n",
              " [1908, 3376, 4394, 86, 2777, 1675],\n",
              " [2996, 2552, 4361, 2516, 232, 3441, 4741],\n",
              " [4829, 2010, 552, 137],\n",
              " [547, 2993, 4821, 794, 4729, 2447, 3773],\n",
              " [3653, 4842, 3557, 4271, 253, 1970, 1362, 2949, 634, 687],\n",
              " [2023, 3397, 911, 4761, 1679, 2934, 3645, 3773],\n",
              " [2793, 267, 4034, 4368],\n",
              " [2345,\n",
              "  2758,\n",
              "  3267,\n",
              "  2740,\n",
              "  137,\n",
              "  305,\n",
              "  910,\n",
              "  4512,\n",
              "  1248,\n",
              "  2350,\n",
              "  137,\n",
              "  3081,\n",
              "  3682,\n",
              "  4821,\n",
              "  4642,\n",
              "  2257],\n",
              " [3973, 1169, 3470, 3932, 4778, 2220, 2406, 4657, 2972, 1856],\n",
              " [280, 1869, 2588, 232, 3599, 530, 345, 3386, 2220, 3773],\n",
              " [541, 2336, 914, 1553, 1066, 2564, 4146, 4495],\n",
              " [4097, 3145, 3449, 3321, 1228, 4833, 2164, 4315, 2978, 4821, 4642, 2257],\n",
              " [1170, 1908, 1884, 3909, 3093, 3901, 3326, 547, 4821, 4642, 2257],\n",
              " [4311, 2721, 4821, 4642, 2257, 4883, 3773, 3174, 532, 3773],\n",
              " [2313, 4821, 3227, 4410, 2594, 3260, 4821, 4642, 2257],\n",
              " [4820, 3447, 4497, 1328, 4359, 4438, 3230, 722, 2920],\n",
              " [1241, 1653, 499, 4438, 826, 3140, 4798, 2029, 4821, 4642, 2257],\n",
              " [3174, 1312, 929, 522, 705],\n",
              " [281, 2996, 3174, 4370, 4311, 2721, 4704, 3909, 3093],\n",
              " [4376, 1107, 3528, 1918, 3915, 508, 471, 3610, 265, 4821, 4642, 2257],\n",
              " [4143, 4014, 2009, 4446, 1322, 227, 832, 4999],\n",
              " [2421, 1248, 3044, 4227, 453, 3603, 4635, 4623, 1415, 149, 4147, 1571, 2721],\n",
              " [4376, 435, 1810, 3064, 1676, 4576, 2566, 3193, 4821, 4642, 2257],\n",
              " [723, 345, 3899, 1474, 1884, 1375, 889],\n",
              " [519, 171, 378, 4691],\n",
              " [3138, 4810, 351, 1612, 968, 1542, 2131, 4821, 4642, 2257],\n",
              " [4587, 4383, 2330, 1928],\n",
              " [3185, 1877, 3761, 4883, 4940, 887, 715, 450],\n",
              " [1451, 3154, 4761, 2282, 4727, 857, 4821, 4642, 2257],\n",
              " [2631, 130, 345, 384, 2675, 4245, 84],\n",
              " [693, 2827, 4982, 500, 1312, 3826, 2827, 3318, 547, 3773],\n",
              " [2446, 1970, 84, 3667, 1364, 327, 2931, 1266, 2187, 2999, 3773],\n",
              " [3865, 3604, 253, 2823, 2039, 2191, 98, 4798, 4821, 4642, 2257],\n",
              " [4338, 4777, 186, 3931, 1884, 551, 2010],\n",
              " [2720, 746, 1233, 1462, 1253, 4132],\n",
              " [3725, 4702, 4044, 4212, 3604, 2975],\n",
              " [3600, 3924, 2339, 4305, 4336, 1195, 3488, 4235, 3738, 336, 3800, 3773],\n",
              " [2516, 4437, 4810, 4438, 3770, 2945, 1712, 3557, 4821, 4642, 2257],\n",
              " [547, 3727],\n",
              " [3408, 646, 1385, 4827, 1339, 928, 3734, 1280, 4821, 4642, 2257],\n",
              " [547, 4950, 1877, 219, 261, 1312, 160, 1675, 2898, 1663],\n",
              " [2551, 1130, 3620, 723, 3290, 2457, 2257, 4850, 4821, 4642, 2257],\n",
              " [4331, 664, 2089, 1933, 3041, 2213, 3722, 1850, 2098, 345, 2871],\n",
              " [324, 3173, 3470, 2192, 634, 84],\n",
              " [786, 1744, 2752, 153, 3857, 930, 4484, 4643, 4821, 4642, 2257],\n",
              " [3429, 945, 2777, 3502, 4308],\n",
              " [4827, 1663, 3834, 40, 1847, 4516, 3909],\n",
              " [947, 4821, 856, 4981, 646, 3959, 3942, 4821, 4642, 2257],\n",
              " [3093, 4969, 1555, 3337, 1777],\n",
              " [3909, 4435, 3713, 1827, 4729, 3569, 547, 3773],\n",
              " [4226, 2, 1209, 3040, 1793, 4210, 2485, 2675],\n",
              " [4668, 3634, 1117, 3877, 631, 3959, 2446],\n",
              " [3599, 3081, 430, 3216, 1309, 4610],\n",
              " [1579, 3231, 2140, 4535, 3605, 1722, 4842, 3557, 1762, 3773],\n",
              " [1686, 4706, 3474, 4915, 4192, 1669, 4821, 4642, 2257],\n",
              " [723, 2823, 4458, 266, 3418, 1634, 2060, 4821, 4642, 2257],\n",
              " [3975, 3873, 751, 3605, 170, 250, 2170],\n",
              " [3862, 2428, 4731, 4157, 4234, 2625, 3909, 354, 4719],\n",
              " [3739, 729, 144, 3303, 2491, 2735, 4821, 4642, 2257],\n",
              " [1243, 1019, 4368, 328, 4510, 861, 3990],\n",
              " [1889, 3929, 541, 3093, 1272],\n",
              " [171, 4599, 1672, 1542, 2104, 3315, 1819, 2793],\n",
              " [3942, 3557, 2796, 547, 3162, 2189, 4821, 4642, 2257],\n",
              " [4503, 2984, 2039, 4599, 1877, 81, 4249, 4898, 1355, 1663],\n",
              " [4311, 2721, 547, 3959, 3752, 4599],\n",
              " [1248, 3411],\n",
              " [2436, 4829, 2696, 4098, 2047, 3411, 2196, 3773],\n",
              " [2817, 4704, 932, 4821, 4642, 2257],\n",
              " [3885, 525, 4696, 2, 1196, 831, 189, 3815, 4178, 4447, 4982, 1707],\n",
              " [4745, 3216, 1302, 1546],\n",
              " [3432, 4959, 2345, 1847, 1375, 3322, 723, 3653],\n",
              " [2441, 4729, 902, 637, 1214, 3317, 1813, 1991],\n",
              " [1347, 2438, 1974, 3916, 3988, 1983, 458, 3909],\n",
              " [2900, 2868, 3470, 1570, 3557, 1650, 4821, 4642, 2257],\n",
              " [4099, 4497, 4502, 547, 1343, 4502, 4027, 4729, 3773],\n",
              " [2174, 3312, 4226, 368, 1674, 4714, 3380, 857, 3271, 1905],\n",
              " [861, 63, 2257, 2058, 150, 547, 4981, 2600, 3773],\n",
              " [469, 719, 913, 4497, 56, 4821, 4642, 2257],\n",
              " [3909, 3093, 4478, 3326, 547, 4821, 4477, 695, 4982, 2298, 4821, 4642, 2257],\n",
              " [1755, 2163, 4516, 2306, 3326, 547, 2067, 4146, 945, 4821, 4642, 2257],\n",
              " [4009, 4384, 522, 1810, 3064, 4438, 4061, 3773],\n",
              " [4623, 2144, 2599, 3163, 930, 1729, 4821, 4642, 2257],\n",
              " [2555, 4629, 650, 1143, 1453, 4821, 4642, 2257],\n",
              " [2894, 3450, 1546],\n",
              " [2941, 3326, 547, 1785, 3932, 538, 4405, 2758, 1343, 4821, 4642, 2257],\n",
              " [2166, 2187, 2308, 992, 1930, 4250, 4821, 4642, 2257],\n",
              " [1473, 3312, 4086, 2683, 1001, 2285, 4158, 1172, 3773],\n",
              " [547, 150, 1195, 1383, 1825, 2436, 4601, 4539, 1248, 2150, 4359],\n",
              " [286, 307, 4604, 3418, 2204, 1306, 1474, 4821, 4642, 2257],\n",
              " [1974, 3070, 2866, 4458, 4821, 3357, 2008, 4658, 3843, 354, 3773],\n",
              " [2997, 98, 1596, 3543, 3312, 386, 3017, 3773],\n",
              " [1978,\n",
              "  2564,\n",
              "  4821,\n",
              "  1819,\n",
              "  2431,\n",
              "  3430,\n",
              "  305,\n",
              "  4111,\n",
              "  4658,\n",
              "  2164,\n",
              "  1390,\n",
              "  4821,\n",
              "  4642,\n",
              "  2257],\n",
              " [3326, 547, 3909, 3093, 1527, 3845, 4146, 945, 4821, 4642, 2257],\n",
              " [2287, 3605, 383, 1991, 3667, 1930, 1475, 137, 1889, 4665],\n",
              " [2039, 1319, 4407, 1227, 3909, 280],\n",
              " [4193, 2688, 869, 4991],\n",
              " [1480, 2431, 3421, 3984, 3877, 2166, 1695, 3185, 4034, 4039, 3981],\n",
              " [67, 1272, 2999, 4438, 857, 3485, 829, 1193, 4821, 4642, 2257],\n",
              " [4464, 3718, 1931, 547, 2388, 4200, 4271, 3796, 3738, 2780, 674, 3773],\n",
              " [552, 1408, 4752, 178, 2666, 4950, 307, 1126],\n",
              " [547, 2817, 848, 896, 4416, 3296, 2215, 2780, 4821, 4642, 2257],\n",
              " [2625, 3909, 3093, 2599, 509, 237, 1847, 3411, 2345, 383],\n",
              " [1812, 723, 2200, 3040, 2, 3909, 3386, 4821, 2723, 2345, 4921],\n",
              " [3326, 547, 1428, 4332, 3251, 2431, 2719, 3202, 4821, 4642, 2257],\n",
              " [1571, 3562, 3386, 4670, 4647, 1102, 4895, 1527, 1464, 4447],\n",
              " [2243, 1293, 1133, 4630, 540, 319, 3959, 3661],\n",
              " [547, 1930, 3490, 4941, 4497, 4435, 4437, 3749, 4038, 3440, 4821, 4642, 2257],\n",
              " [4008, 4005, 624, 2827, 1228, 3418, 2906, 1255, 1663],\n",
              " [4113, 4729, 3691, 4056, 1802, 4093, 2104, 1064, 4821, 4642, 2257],\n",
              " ...]"
            ]
          },
          "execution_count": 45,
          "metadata": {},
          "output_type": "execute_result"
        }
      ],
      "source": [
        "onehot_repr=[one_hot(words,voc_size)for words in corpus]\n",
        "onehot_repr"
      ]
    },
    {
      "cell_type": "code",
      "execution_count": 46,
      "metadata": {
        "colab": {
          "base_uri": "https://localhost:8080/",
          "height": 36
        },
        "id": "R5tDxw17FfA5",
        "outputId": "6f2e3636-9564-47bd-8338-4b452f7f14a1"
      },
      "outputs": [
        {
          "data": {
            "text/plain": [
              "'flynn hillari clinton big woman campu breitbart'"
            ]
          },
          "execution_count": 46,
          "metadata": {},
          "output_type": "execute_result"
        }
      ],
      "source": [
        "corpus[1]"
      ]
    },
    {
      "cell_type": "code",
      "execution_count": 47,
      "metadata": {
        "colab": {
          "base_uri": "https://localhost:8080/"
        },
        "id": "FnVU3CbwFodF",
        "outputId": "bbd4b0c8-3f4b-4d35-ebe3-9daba6ed8c24"
      },
      "outputs": [
        {
          "data": {
            "text/plain": [
              "[3302, 3909, 3093, 551, 3427, 3231, 3773]"
            ]
          },
          "execution_count": 47,
          "metadata": {},
          "output_type": "execute_result"
        }
      ],
      "source": [
        "onehot_repr[1]"
      ]
    },
    {
      "cell_type": "markdown",
      "metadata": {
        "id": "4cAU83PaF8Nu"
      },
      "source": [
        "## Embedding Representation"
      ]
    },
    {
      "cell_type": "code",
      "execution_count": 48,
      "metadata": {
        "colab": {
          "base_uri": "https://localhost:8080/"
        },
        "id": "-yliJj1wFogK",
        "outputId": "8e06b7d6-684a-4444-b118-21aa4c89dee7"
      },
      "outputs": [
        {
          "name": "stdout",
          "output_type": "stream",
          "text": [
            "[[2683 2339   71 ...    0    0    0]\n",
            " [3302 3909 3093 ...    0    0    0]\n",
            " [ 532 3569 4249 ...    0    0    0]\n",
            " ...\n",
            " [3654  251 3988 ...    0    0    0]\n",
            " [ 179 1542 2611 ...    0    0    0]\n",
            " [2777 3757 4789 ...    0    0    0]]\n"
          ]
        }
      ],
      "source": [
        "sent_length=20\n",
        "embedded_docs=pad_sequences(onehot_repr, padding='post', maxlen=sent_length)\n",
        "print(embedded_docs)"
      ]
    },
    {
      "cell_type": "code",
      "execution_count": 49,
      "metadata": {
        "colab": {
          "base_uri": "https://localhost:8080/"
        },
        "id": "s986R-_nFojh",
        "outputId": "2bf8cf56-6789-435a-d8b7-454a3e9ce6a8"
      },
      "outputs": [
        {
          "data": {
            "text/plain": [
              "array([3302, 3909, 3093,  551, 3427, 3231, 3773,    0,    0,    0,    0,\n",
              "          0,    0,    0,    0,    0,    0,    0,    0,    0], dtype=int32)"
            ]
          },
          "execution_count": 49,
          "metadata": {},
          "output_type": "execute_result"
        }
      ],
      "source": [
        "embedded_docs[1]"
      ]
    },
    {
      "cell_type": "markdown",
      "metadata": {
        "id": "Hzo98yawGSOn"
      },
      "source": [
        "## Creating The model"
      ]
    },
    {
      "cell_type": "code",
      "execution_count": 50,
      "metadata": {
        "colab": {
          "base_uri": "https://localhost:8080/",
          "height": 280
        },
        "id": "yFzEEY8rGIBG",
        "outputId": "04d97962-629b-4114-a8a1-ed1c918755be"
      },
      "outputs": [
        {
          "name": "stderr",
          "output_type": "stream",
          "text": [
            "c:\\ProgramData\\anaconda3\\envs\\myenv\\Lib\\site-packages\\keras\\src\\layers\\core\\embedding.py:97: UserWarning: Argument `input_length` is deprecated. Just remove it.\n",
            "  warnings.warn(\n"
          ]
        },
        {
          "data": {
            "text/html": [
              "<pre style=\"white-space:pre;overflow-x:auto;line-height:normal;font-family:Menlo,'DejaVu Sans Mono',consolas,'Courier New',monospace\"><span style=\"font-weight: bold\">Model: \"sequential\"</span>\n",
              "</pre>\n"
            ],
            "text/plain": [
              "\u001b[1mModel: \"sequential\"\u001b[0m\n"
            ]
          },
          "metadata": {},
          "output_type": "display_data"
        },
        {
          "data": {
            "text/html": [
              "<pre style=\"white-space:pre;overflow-x:auto;line-height:normal;font-family:Menlo,'DejaVu Sans Mono',consolas,'Courier New',monospace\">┏━━━━━━━━━━━━━━━━━━━━━━━━━━━━━━━━━┳━━━━━━━━━━━━━━━━━━━━━━━━┳━━━━━━━━━━━━━━━┓\n",
              "┃<span style=\"font-weight: bold\"> Layer (type)                    </span>┃<span style=\"font-weight: bold\"> Output Shape           </span>┃<span style=\"font-weight: bold\">       Param # </span>┃\n",
              "┡━━━━━━━━━━━━━━━━━━━━━━━━━━━━━━━━━╇━━━━━━━━━━━━━━━━━━━━━━━━╇━━━━━━━━━━━━━━━┩\n",
              "│ embedding (<span style=\"color: #0087ff; text-decoration-color: #0087ff\">Embedding</span>)           │ (<span style=\"color: #00d7ff; text-decoration-color: #00d7ff\">None</span>, <span style=\"color: #00af00; text-decoration-color: #00af00\">20</span>, <span style=\"color: #00af00; text-decoration-color: #00af00\">40</span>)         │       <span style=\"color: #00af00; text-decoration-color: #00af00\">200,000</span> │\n",
              "├─────────────────────────────────┼────────────────────────┼───────────────┤\n",
              "│ bidirectional (<span style=\"color: #0087ff; text-decoration-color: #0087ff\">Bidirectional</span>)   │ (<span style=\"color: #00d7ff; text-decoration-color: #00d7ff\">None</span>, <span style=\"color: #00af00; text-decoration-color: #00af00\">200</span>)            │       <span style=\"color: #00af00; text-decoration-color: #00af00\">112,800</span> │\n",
              "├─────────────────────────────────┼────────────────────────┼───────────────┤\n",
              "│ dense (<span style=\"color: #0087ff; text-decoration-color: #0087ff\">Dense</span>)                   │ (<span style=\"color: #00d7ff; text-decoration-color: #00d7ff\">None</span>, <span style=\"color: #00af00; text-decoration-color: #00af00\">1</span>)              │           <span style=\"color: #00af00; text-decoration-color: #00af00\">201</span> │\n",
              "└─────────────────────────────────┴────────────────────────┴───────────────┘\n",
              "</pre>\n"
            ],
            "text/plain": [
              "┏━━━━━━━━━━━━━━━━━━━━━━━━━━━━━━━━━┳━━━━━━━━━━━━━━━━━━━━━━━━┳━━━━━━━━━━━━━━━┓\n",
              "┃\u001b[1m \u001b[0m\u001b[1mLayer (type)                   \u001b[0m\u001b[1m \u001b[0m┃\u001b[1m \u001b[0m\u001b[1mOutput Shape          \u001b[0m\u001b[1m \u001b[0m┃\u001b[1m \u001b[0m\u001b[1m      Param #\u001b[0m\u001b[1m \u001b[0m┃\n",
              "┡━━━━━━━━━━━━━━━━━━━━━━━━━━━━━━━━━╇━━━━━━━━━━━━━━━━━━━━━━━━╇━━━━━━━━━━━━━━━┩\n",
              "│ embedding (\u001b[38;5;33mEmbedding\u001b[0m)           │ (\u001b[38;5;45mNone\u001b[0m, \u001b[38;5;34m20\u001b[0m, \u001b[38;5;34m40\u001b[0m)         │       \u001b[38;5;34m200,000\u001b[0m │\n",
              "├─────────────────────────────────┼────────────────────────┼───────────────┤\n",
              "│ bidirectional (\u001b[38;5;33mBidirectional\u001b[0m)   │ (\u001b[38;5;45mNone\u001b[0m, \u001b[38;5;34m200\u001b[0m)            │       \u001b[38;5;34m112,800\u001b[0m │\n",
              "├─────────────────────────────────┼────────────────────────┼───────────────┤\n",
              "│ dense (\u001b[38;5;33mDense\u001b[0m)                   │ (\u001b[38;5;45mNone\u001b[0m, \u001b[38;5;34m1\u001b[0m)              │           \u001b[38;5;34m201\u001b[0m │\n",
              "└─────────────────────────────────┴────────────────────────┴───────────────┘\n"
            ]
          },
          "metadata": {},
          "output_type": "display_data"
        },
        {
          "data": {
            "text/html": [
              "<pre style=\"white-space:pre;overflow-x:auto;line-height:normal;font-family:Menlo,'DejaVu Sans Mono',consolas,'Courier New',monospace\"><span style=\"font-weight: bold\"> Total params: </span><span style=\"color: #00af00; text-decoration-color: #00af00\">313,001</span> (1.19 MB)\n",
              "</pre>\n"
            ],
            "text/plain": [
              "\u001b[1m Total params: \u001b[0m\u001b[38;5;34m313,001\u001b[0m (1.19 MB)\n"
            ]
          },
          "metadata": {},
          "output_type": "display_data"
        },
        {
          "data": {
            "text/html": [
              "<pre style=\"white-space:pre;overflow-x:auto;line-height:normal;font-family:Menlo,'DejaVu Sans Mono',consolas,'Courier New',monospace\"><span style=\"font-weight: bold\"> Trainable params: </span><span style=\"color: #00af00; text-decoration-color: #00af00\">313,001</span> (1.19 MB)\n",
              "</pre>\n"
            ],
            "text/plain": [
              "\u001b[1m Trainable params: \u001b[0m\u001b[38;5;34m313,001\u001b[0m (1.19 MB)\n"
            ]
          },
          "metadata": {},
          "output_type": "display_data"
        },
        {
          "data": {
            "text/html": [
              "<pre style=\"white-space:pre;overflow-x:auto;line-height:normal;font-family:Menlo,'DejaVu Sans Mono',consolas,'Courier New',monospace\"><span style=\"font-weight: bold\"> Non-trainable params: </span><span style=\"color: #00af00; text-decoration-color: #00af00\">0</span> (0.00 B)\n",
              "</pre>\n"
            ],
            "text/plain": [
              "\u001b[1m Non-trainable params: \u001b[0m\u001b[38;5;34m0\u001b[0m (0.00 B)\n"
            ]
          },
          "metadata": {},
          "output_type": "display_data"
        },
        {
          "name": "stdout",
          "output_type": "stream",
          "text": [
            "None\n"
          ]
        }
      ],
      "source": [
        "## Creating model\n",
        "embedding_vector_features = 40\n",
        "model = Sequential()\n",
        "model.add(Embedding(voc_size, embedding_vector_features, input_length=sent_length))\n",
        "model.add(Bidirectional(LSTM(100)))\n",
        "model.add(Dense(1, activation='sigmoid'))\n",
        "\n",
        "# نعمل build للموديل\n",
        "model.build(input_shape=(None, sent_length))\n",
        "\n",
        "model.compile(loss='binary_crossentropy', optimizer='adam', metrics=['accuracy'])\n",
        "print(model.summary())\n"
      ]
    },
    {
      "cell_type": "code",
      "execution_count": 51,
      "metadata": {
        "colab": {
          "base_uri": "https://localhost:8080/"
        },
        "id": "d2DLJijpkQbE",
        "outputId": "65837954-22a6-408e-af83-9907b52c0aa0"
      },
      "outputs": [
        {
          "data": {
            "text/plain": [
              "(18283, (18283,))"
            ]
          },
          "execution_count": 51,
          "metadata": {},
          "output_type": "execute_result"
        }
      ],
      "source": [
        "len(embedded_docs),y.shape"
      ]
    },
    {
      "cell_type": "code",
      "execution_count": 52,
      "metadata": {
        "id": "FN5plPZekQbF"
      },
      "outputs": [],
      "source": [
        "import numpy as np\n",
        "X_final=np.array(embedded_docs)\n",
        "y_final=np.array(y)"
      ]
    },
    {
      "cell_type": "code",
      "execution_count": 53,
      "metadata": {
        "colab": {
          "base_uri": "https://localhost:8080/"
        },
        "id": "Bvzp0VYOkQbF",
        "outputId": "be53a831-f21f-4a00-ce08-d9c4606e822d"
      },
      "outputs": [
        {
          "data": {
            "text/plain": [
              "((18283, 20), (18283,))"
            ]
          },
          "execution_count": 53,
          "metadata": {},
          "output_type": "execute_result"
        }
      ],
      "source": [
        "X_final.shape,y_final.shape"
      ]
    },
    {
      "cell_type": "code",
      "execution_count": 54,
      "metadata": {
        "id": "I8r4eUgCkQbF"
      },
      "outputs": [],
      "source": [
        "from sklearn.model_selection import train_test_split\n",
        "X_train, X_test, y_train, y_test = train_test_split(X_final, y_final, test_size=0.33, random_state=42)"
      ]
    },
    {
      "cell_type": "code",
      "execution_count": 55,
      "metadata": {
        "id": "AYE9Iq1gKCL5"
      },
      "outputs": [],
      "source": [
        "y_train = y_train.astype(int)\n",
        "y_test = y_test.astype(int)"
      ]
    },
    {
      "cell_type": "markdown",
      "metadata": {
        "id": "BPs6OT0okQbF"
      },
      "source": [
        "### Model Training"
      ]
    },
    {
      "cell_type": "code",
      "execution_count": 56,
      "metadata": {
        "colab": {
          "base_uri": "https://localhost:8080/"
        },
        "id": "S9xmjTq0kQbF",
        "outputId": "eb83182a-d8f4-4f82-c9fe-8f3266c3a793"
      },
      "outputs": [
        {
          "name": "stdout",
          "output_type": "stream",
          "text": [
            "Epoch 1/10\n",
            "\u001b[1m154/154\u001b[0m \u001b[32m━━━━━━━━━━━━━━━━━━━━\u001b[0m\u001b[37m\u001b[0m \u001b[1m8s\u001b[0m 28ms/step - accuracy: 0.8542 - loss: 0.3015 - val_accuracy: 0.9073 - val_loss: 0.2129\n",
            "Epoch 2/10\n",
            "\u001b[1m154/154\u001b[0m \u001b[32m━━━━━━━━━━━━━━━━━━━━\u001b[0m\u001b[37m\u001b[0m \u001b[1m4s\u001b[0m 25ms/step - accuracy: 0.9510 - loss: 0.1281 - val_accuracy: 0.9147 - val_loss: 0.2088\n",
            "Epoch 3/10\n",
            "\u001b[1m154/154\u001b[0m \u001b[32m━━━━━━━━━━━━━━━━━━━━\u001b[0m\u001b[37m\u001b[0m \u001b[1m4s\u001b[0m 24ms/step - accuracy: 0.9720 - loss: 0.0812 - val_accuracy: 0.9163 - val_loss: 0.2133\n",
            "Epoch 4/10\n",
            "\u001b[1m154/154\u001b[0m \u001b[32m━━━━━━━━━━━━━━━━━━━━\u001b[0m\u001b[37m\u001b[0m \u001b[1m4s\u001b[0m 25ms/step - accuracy: 0.9823 - loss: 0.0563 - val_accuracy: 0.9082 - val_loss: 0.2818\n",
            "Epoch 5/10\n",
            "\u001b[1m154/154\u001b[0m \u001b[32m━━━━━━━━━━━━━━━━━━━━\u001b[0m\u001b[37m\u001b[0m \u001b[1m5s\u001b[0m 31ms/step - accuracy: 0.9863 - loss: 0.0431 - val_accuracy: 0.9102 - val_loss: 0.3111\n",
            "Epoch 6/10\n",
            "\u001b[1m154/154\u001b[0m \u001b[32m━━━━━━━━━━━━━━━━━━━━\u001b[0m\u001b[37m\u001b[0m \u001b[1m5s\u001b[0m 32ms/step - accuracy: 0.9914 - loss: 0.0298 - val_accuracy: 0.9069 - val_loss: 0.3471\n",
            "Epoch 7/10\n",
            "\u001b[1m154/154\u001b[0m \u001b[32m━━━━━━━━━━━━━━━━━━━━\u001b[0m\u001b[37m\u001b[0m \u001b[1m5s\u001b[0m 30ms/step - accuracy: 0.9785 - loss: 0.0630 - val_accuracy: 0.9082 - val_loss: 0.2861\n",
            "Epoch 8/10\n",
            "\u001b[1m154/154\u001b[0m \u001b[32m━━━━━━━━━━━━━━━━━━━━\u001b[0m\u001b[37m\u001b[0m \u001b[1m5s\u001b[0m 31ms/step - accuracy: 0.9928 - loss: 0.0283 - val_accuracy: 0.9078 - val_loss: 0.3640\n",
            "Epoch 9/10\n",
            "\u001b[1m154/154\u001b[0m \u001b[32m━━━━━━━━━━━━━━━━━━━━\u001b[0m\u001b[37m\u001b[0m \u001b[1m5s\u001b[0m 31ms/step - accuracy: 0.9956 - loss: 0.0183 - val_accuracy: 0.9053 - val_loss: 0.4139\n",
            "Epoch 10/10\n",
            "\u001b[1m154/154\u001b[0m \u001b[32m━━━━━━━━━━━━━━━━━━━━\u001b[0m\u001b[37m\u001b[0m \u001b[1m5s\u001b[0m 32ms/step - accuracy: 0.9974 - loss: 0.0132 - val_accuracy: 0.9069 - val_loss: 0.4333\n"
          ]
        },
        {
          "data": {
            "text/plain": [
              "<keras.src.callbacks.history.History at 0x163e1514d70>"
            ]
          },
          "execution_count": 56,
          "metadata": {},
          "output_type": "execute_result"
        }
      ],
      "source": [
        "### Finally Training\n",
        "model.fit(X_train, y_train, validation_split=0.2, epochs=10, batch_size=64)"
      ]
    },
    {
      "cell_type": "markdown",
      "metadata": {
        "id": "jCSjMRXKkQbG"
      },
      "source": [
        "### Performance Metrics And Accuracy"
      ]
    },
    {
      "cell_type": "code",
      "execution_count": 57,
      "metadata": {
        "colab": {
          "base_uri": "https://localhost:8080/"
        },
        "id": "bZrIpqEdkQbG",
        "outputId": "765f944a-2fd0-417a-e1ff-bdb68813eee8"
      },
      "outputs": [
        {
          "name": "stdout",
          "output_type": "stream",
          "text": [
            "\u001b[1m189/189\u001b[0m \u001b[32m━━━━━━━━━━━━━━━━━━━━\u001b[0m\u001b[37m\u001b[0m \u001b[1m3s\u001b[0m 11ms/step\n"
          ]
        }
      ],
      "source": [
        "y_pred=model.predict(X_test)"
      ]
    },
    {
      "cell_type": "code",
      "execution_count": 58,
      "metadata": {
        "id": "9CjVf5fmm8UK"
      },
      "outputs": [],
      "source": [
        "y_pred=np.where(y_pred > 0.6, 1,0) ##AUC ROC Curve"
      ]
    },
    {
      "cell_type": "code",
      "execution_count": 59,
      "metadata": {
        "colab": {
          "base_uri": "https://localhost:8080/"
        },
        "id": "C7HhaSsMkQbG",
        "outputId": "3c0ba4df-53c0-484b-d21d-9cebf80bede7"
      },
      "outputs": [
        {
          "data": {
            "text/plain": [
              "array([[3097,  318],\n",
              "       [ 241, 2378]])"
            ]
          },
          "execution_count": 59,
          "metadata": {},
          "output_type": "execute_result"
        }
      ],
      "source": [
        "from sklearn.metrics import confusion_matrix\n",
        "confusion_matrix(y_test,y_pred)"
      ]
    },
    {
      "cell_type": "code",
      "execution_count": 60,
      "metadata": {
        "colab": {
          "base_uri": "https://localhost:8080/"
        },
        "id": "eIerFBH1kQbG",
        "outputId": "94744c3f-0db9-4278-ac62-c049c6439cd3"
      },
      "outputs": [
        {
          "data": {
            "text/plain": [
              "0.9073583029499502"
            ]
          },
          "execution_count": 60,
          "metadata": {},
          "output_type": "execute_result"
        }
      ],
      "source": [
        "from sklearn.metrics import accuracy_score\n",
        "accuracy_score(y_test,y_pred)"
      ]
    },
    {
      "cell_type": "code",
      "execution_count": 61,
      "metadata": {
        "colab": {
          "base_uri": "https://localhost:8080/"
        },
        "id": "7XvLoCHBkQbH",
        "outputId": "91d29e77-41a6-4f4e-c91a-5c966bafad7a"
      },
      "outputs": [
        {
          "name": "stdout",
          "output_type": "stream",
          "text": [
            "              precision    recall  f1-score   support\n",
            "\n",
            "           0       0.93      0.91      0.92      3415\n",
            "           1       0.88      0.91      0.89      2619\n",
            "\n",
            "    accuracy                           0.91      6034\n",
            "   macro avg       0.90      0.91      0.91      6034\n",
            "weighted avg       0.91      0.91      0.91      6034\n",
            "\n"
          ]
        }
      ],
      "source": [
        "from sklearn.metrics import classification_report\n",
        "print(classification_report(y_test,y_pred))"
      ]
    },
    {
      "cell_type": "code",
      "execution_count": 64,
      "metadata": {
        "id": "971eb_l7GWTI"
      },
      "outputs": [],
      "source": [
        "import pickle \n",
        "with open(\"vectorizer.pkl\", \"wb\") as f:\n",
        "    pickle.dump(onehot_repr , f)\n",
        "\n",
        "\n",
        "with open(\"model.pkl\", \"wb\") as f:\n",
        "    pickle.dump(model, f)\n"
      ]
    },
    {
      "cell_type": "code",
      "execution_count": 65,
      "metadata": {},
      "outputs": [
        {
          "name": "stderr",
          "output_type": "stream",
          "text": [
            "WARNING:absl:You are saving your model as an HDF5 file via `model.save()` or `keras.saving.save_model(model)`. This file format is considered legacy. We recommend using instead the native Keras format, e.g. `model.save('my_model.keras')` or `keras.saving.save_model(model, 'my_model.keras')`. \n"
          ]
        }
      ],
      "source": [
        "model.save(\"model.h5\")      "
      ]
    }
  ],
  "metadata": {
    "colab": {
      "provenance": []
    },
    "kernelspec": {
      "display_name": "myenv",
      "language": "python",
      "name": "python3"
    },
    "language_info": {
      "codemirror_mode": {
        "name": "ipython",
        "version": 3
      },
      "file_extension": ".py",
      "mimetype": "text/x-python",
      "name": "python",
      "nbconvert_exporter": "python",
      "pygments_lexer": "ipython3",
      "version": "3.13.5"
    }
  },
  "nbformat": 4,
  "nbformat_minor": 0
}
